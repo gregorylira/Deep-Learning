{
  "nbformat": 4,
  "nbformat_minor": 0,
  "metadata": {
    "colab": {
      "name": "Atividade 2.ipynb",
      "provenance": []
    },
    "kernelspec": {
      "name": "python3",
      "display_name": "Python 3"
    },
    "language_info": {
      "name": "python"
    },
    "widgets": {
      "application/vnd.jupyter.widget-state+json": {
        "2ef2335f7d364da1b5a71c3604326fcf": {
          "model_module": "@jupyter-widgets/controls",
          "model_name": "VBoxModel",
          "model_module_version": "1.5.0",
          "state": {
            "_dom_classes": [
              "widget-interact"
            ],
            "_model_module": "@jupyter-widgets/controls",
            "_model_module_version": "1.5.0",
            "_model_name": "VBoxModel",
            "_view_count": null,
            "_view_module": "@jupyter-widgets/controls",
            "_view_module_version": "1.5.0",
            "_view_name": "VBoxView",
            "box_style": "",
            "children": [
              "IPY_MODEL_f60f572362b2431bb373e6a59bb14ba8",
              "IPY_MODEL_56a81954026443439f2998a0775c2439",
              "IPY_MODEL_de5269f44eb64a7a90c0e7f3fd005c58",
              "IPY_MODEL_35344089cf914926bcefdccad0c89f7b",
              "IPY_MODEL_3ae3f9c387f542fcb6dabdd28b06be11",
              "IPY_MODEL_6839f2d7f08b4c3fbd470c53b309824f"
            ],
            "layout": "IPY_MODEL_15ffd0c3190541c5835bdbcf476a0335"
          }
        },
        "f60f572362b2431bb373e6a59bb14ba8": {
          "model_module": "@jupyter-widgets/controls",
          "model_name": "DropdownModel",
          "model_module_version": "1.5.0",
          "state": {
            "_dom_classes": [],
            "_model_module": "@jupyter-widgets/controls",
            "_model_module_version": "1.5.0",
            "_model_name": "DropdownModel",
            "_options_labels": [
              "gini",
              "entropy"
            ],
            "_view_count": null,
            "_view_module": "@jupyter-widgets/controls",
            "_view_module_version": "1.5.0",
            "_view_name": "DropdownView",
            "description": "crit",
            "description_tooltip": null,
            "disabled": false,
            "index": 0,
            "layout": "IPY_MODEL_6af0fdc79b6b421d962232ae1881d266",
            "style": "IPY_MODEL_e23bb66ac4fc4a2faaaeb720f0918090"
          }
        },
        "56a81954026443439f2998a0775c2439": {
          "model_module": "@jupyter-widgets/controls",
          "model_name": "DropdownModel",
          "model_module_version": "1.5.0",
          "state": {
            "_dom_classes": [],
            "_model_module": "@jupyter-widgets/controls",
            "_model_module_version": "1.5.0",
            "_model_name": "DropdownModel",
            "_options_labels": [
              "best",
              "random"
            ],
            "_view_count": null,
            "_view_module": "@jupyter-widgets/controls",
            "_view_module_version": "1.5.0",
            "_view_name": "DropdownView",
            "description": "split",
            "description_tooltip": null,
            "disabled": false,
            "index": 0,
            "layout": "IPY_MODEL_6d44ff2385de4e7887bf3c80cc2ac61c",
            "style": "IPY_MODEL_ac1004a5449b4b2dad9fa8cafc1caafd"
          }
        },
        "de5269f44eb64a7a90c0e7f3fd005c58": {
          "model_module": "@jupyter-widgets/controls",
          "model_name": "DropdownModel",
          "model_module_version": "1.5.0",
          "state": {
            "_dom_classes": [],
            "_model_module": "@jupyter-widgets/controls",
            "_model_module_version": "1.5.0",
            "_model_name": "DropdownModel",
            "_options_labels": [
              "1",
              "2",
              "3",
              "4",
              "5",
              "10",
              "20",
              "30"
            ],
            "_view_count": null,
            "_view_module": "@jupyter-widgets/controls",
            "_view_module_version": "1.5.0",
            "_view_name": "DropdownView",
            "description": "depth",
            "description_tooltip": null,
            "disabled": false,
            "index": 2,
            "layout": "IPY_MODEL_72b3247a822b427a8444c6d137e4835e",
            "style": "IPY_MODEL_0a160c2f995d4100bcb9bd08eafe2cdb"
          }
        },
        "35344089cf914926bcefdccad0c89f7b": {
          "model_module": "@jupyter-widgets/controls",
          "model_name": "IntSliderModel",
          "model_module_version": "1.5.0",
          "state": {
            "_dom_classes": [],
            "_model_module": "@jupyter-widgets/controls",
            "_model_module_version": "1.5.0",
            "_model_name": "IntSliderModel",
            "_view_count": null,
            "_view_module": "@jupyter-widgets/controls",
            "_view_module_version": "1.5.0",
            "_view_name": "IntSliderView",
            "continuous_update": true,
            "description": "min_samples_split",
            "description_tooltip": null,
            "disabled": false,
            "layout": "IPY_MODEL_486c872b681342dfab8b62fd2d9dc4b6",
            "max": 8,
            "min": 1,
            "orientation": "horizontal",
            "readout": true,
            "readout_format": "d",
            "step": 1,
            "style": "IPY_MODEL_62de4c73b17e41cabd3f75949eb133f3",
            "value": 3
          }
        },
        "3ae3f9c387f542fcb6dabdd28b06be11": {
          "model_module": "@jupyter-widgets/controls",
          "model_name": "IntSliderModel",
          "model_module_version": "1.5.0",
          "state": {
            "_dom_classes": [],
            "_model_module": "@jupyter-widgets/controls",
            "_model_module_version": "1.5.0",
            "_model_name": "IntSliderModel",
            "_view_count": null,
            "_view_module": "@jupyter-widgets/controls",
            "_view_module_version": "1.5.0",
            "_view_name": "IntSliderView",
            "continuous_update": true,
            "description": "min_samples_leaf",
            "description_tooltip": null,
            "disabled": false,
            "layout": "IPY_MODEL_18bd64ab25eb4f6c81516040989b788a",
            "max": 20,
            "min": 1,
            "orientation": "horizontal",
            "readout": true,
            "readout_format": "d",
            "step": 1,
            "style": "IPY_MODEL_abd97c8d216a4978b8dfa090144f34fb",
            "value": 2
          }
        },
        "6839f2d7f08b4c3fbd470c53b309824f": {
          "model_module": "@jupyter-widgets/output",
          "model_name": "OutputModel",
          "model_module_version": "1.0.0",
          "state": {
            "_dom_classes": [],
            "_model_module": "@jupyter-widgets/output",
            "_model_module_version": "1.0.0",
            "_model_name": "OutputModel",
            "_view_count": null,
            "_view_module": "@jupyter-widgets/output",
            "_view_module_version": "1.0.0",
            "_view_name": "OutputView",
            "layout": "IPY_MODEL_34676e038c35498d9c8da48c9eb3c104",
            "msg_id": "",
            "outputs": [
              {
                "output_type": "stream",
                "name": "stdout",
                "text": [
                  "Ein: 0.1764\n",
                  "Eout: 0.1953\n",
                  "              precision    recall  f1-score   support\n",
                  "\n",
                  "           0       0.77      0.97      0.86       131\n",
                  "           1       0.92      0.55      0.69        84\n",
                  "\n",
                  "    accuracy                           0.80       215\n",
                  "   macro avg       0.84      0.76      0.77       215\n",
                  "weighted avg       0.83      0.80      0.79       215\n",
                  "\n"
                ]
              },
              {
                "output_type": "display_data",
                "data": {
                  "text/plain": "<IPython.core.display.SVG object>",
                  "image/svg+xml": "<svg height=\"433pt\" viewBox=\"0.00 0.00 1010.50 433.00\" width=\"1011pt\" xmlns=\"http://www.w3.org/2000/svg\" xmlns:xlink=\"http://www.w3.org/1999/xlink\">\n<g class=\"graph\" id=\"graph0\" transform=\"scale(1 1) rotate(0) translate(4 429)\">\n<title>Tree</title>\n<polygon fill=\"#ffffff\" points=\"-4,4 -4,-429 1006.5,-429 1006.5,4 -4,4\" stroke=\"transparent\"/>\n<!-- 0 -->\n<g class=\"node\" id=\"node1\">\n<title>0</title>\n<polygon fill=\"#f7dac4\" points=\"549.5,-425 417.5,-425 417.5,-342 549.5,-342 549.5,-425\" stroke=\"#000000\"/>\n<text fill=\"#000000\" font-family=\"Helvetica,sans-Serif\" font-size=\"14.00\" text-anchor=\"middle\" x=\"483.5\" y=\"-409.8\">Sex &lt;= -0.279</text>\n<text fill=\"#000000\" font-family=\"Helvetica,sans-Serif\" font-size=\"14.00\" text-anchor=\"middle\" x=\"483.5\" y=\"-394.8\">gini = 0.485</text>\n<text fill=\"#000000\" font-family=\"Helvetica,sans-Serif\" font-size=\"14.00\" text-anchor=\"middle\" x=\"483.5\" y=\"-379.8\">samples = 499</text>\n<text fill=\"#000000\" font-family=\"Helvetica,sans-Serif\" font-size=\"14.00\" text-anchor=\"middle\" x=\"483.5\" y=\"-364.8\">value = [293, 206]</text>\n<text fill=\"#000000\" font-family=\"Helvetica,sans-Serif\" font-size=\"14.00\" text-anchor=\"middle\" x=\"483.5\" y=\"-349.8\">class = 0</text>\n</g>\n<!-- 1 -->\n<g class=\"node\" id=\"node2\">\n<title>1</title>\n<polygon fill=\"#76bbed\" points=\"424.5,-306 300.5,-306 300.5,-223 424.5,-223 424.5,-306\" stroke=\"#000000\"/>\n<text fill=\"#000000\" font-family=\"Helvetica,sans-Serif\" font-size=\"14.00\" text-anchor=\"middle\" x=\"362.5\" y=\"-290.8\">Pclass &lt;= 0.314</text>\n<text fill=\"#000000\" font-family=\"Helvetica,sans-Serif\" font-size=\"14.00\" text-anchor=\"middle\" x=\"362.5\" y=\"-275.8\">gini = 0.36</text>\n<text fill=\"#000000\" font-family=\"Helvetica,sans-Serif\" font-size=\"14.00\" text-anchor=\"middle\" x=\"362.5\" y=\"-260.8\">samples = 183</text>\n<text fill=\"#000000\" font-family=\"Helvetica,sans-Serif\" font-size=\"14.00\" text-anchor=\"middle\" x=\"362.5\" y=\"-245.8\">value = [43, 140]</text>\n<text fill=\"#000000\" font-family=\"Helvetica,sans-Serif\" font-size=\"14.00\" text-anchor=\"middle\" x=\"362.5\" y=\"-230.8\">class = 1</text>\n</g>\n<!-- 0&#45;&gt;1 -->\n<g class=\"edge\" id=\"edge1\">\n<title>0-&gt;1</title>\n<path d=\"M441.1801,-341.8796C431.8392,-332.6931 421.861,-322.8798 412.256,-313.4336\" fill=\"none\" stroke=\"#000000\"/>\n<polygon fill=\"#000000\" points=\"414.5845,-310.8146 405.0006,-306.2981 409.6762,-315.8054 414.5845,-310.8146\" stroke=\"#000000\"/>\n<text fill=\"#000000\" font-family=\"Helvetica,sans-Serif\" font-size=\"14.00\" text-anchor=\"middle\" x=\"405.2089\" y=\"-327.5972\">True</text>\n</g>\n<!-- 8 -->\n<g class=\"node\" id=\"node9\">\n<title>8</title>\n<polygon fill=\"#eca26d\" points=\"671.5,-306 547.5,-306 547.5,-223 671.5,-223 671.5,-306\" stroke=\"#000000\"/>\n<text fill=\"#000000\" font-family=\"Helvetica,sans-Serif\" font-size=\"14.00\" text-anchor=\"middle\" x=\"609.5\" y=\"-290.8\">Age &lt;= -1.15</text>\n<text fill=\"#000000\" font-family=\"Helvetica,sans-Serif\" font-size=\"14.00\" text-anchor=\"middle\" x=\"609.5\" y=\"-275.8\">gini = 0.33</text>\n<text fill=\"#000000\" font-family=\"Helvetica,sans-Serif\" font-size=\"14.00\" text-anchor=\"middle\" x=\"609.5\" y=\"-260.8\">samples = 316</text>\n<text fill=\"#000000\" font-family=\"Helvetica,sans-Serif\" font-size=\"14.00\" text-anchor=\"middle\" x=\"609.5\" y=\"-245.8\">value = [250, 66]</text>\n<text fill=\"#000000\" font-family=\"Helvetica,sans-Serif\" font-size=\"14.00\" text-anchor=\"middle\" x=\"609.5\" y=\"-230.8\">class = 0</text>\n</g>\n<!-- 0&#45;&gt;8 -->\n<g class=\"edge\" id=\"edge8\">\n<title>0-&gt;8</title>\n<path d=\"M527.5687,-341.8796C537.2955,-332.6931 547.6861,-322.8798 557.6879,-313.4336\" fill=\"none\" stroke=\"#000000\"/>\n<polygon fill=\"#000000\" points=\"560.3763,-315.7089 565.2432,-306.2981 555.5699,-310.6198 560.3763,-315.7089\" stroke=\"#000000\"/>\n<text fill=\"#000000\" font-family=\"Helvetica,sans-Serif\" font-size=\"14.00\" text-anchor=\"middle\" x=\"564.5292\" y=\"-327.5879\">False</text>\n</g>\n<!-- 2 -->\n<g class=\"node\" id=\"node3\">\n<title>2</title>\n<polygon fill=\"#44a2e6\" points=\"236.5,-187 120.5,-187 120.5,-104 236.5,-104 236.5,-187\" stroke=\"#000000\"/>\n<text fill=\"#000000\" font-family=\"Helvetica,sans-Serif\" font-size=\"14.00\" text-anchor=\"middle\" x=\"178.5\" y=\"-171.8\">Age &lt;= -0.358</text>\n<text fill=\"#000000\" font-family=\"Helvetica,sans-Serif\" font-size=\"14.00\" text-anchor=\"middle\" x=\"178.5\" y=\"-156.8\">gini = 0.1</text>\n<text fill=\"#000000\" font-family=\"Helvetica,sans-Serif\" font-size=\"14.00\" text-anchor=\"middle\" x=\"178.5\" y=\"-141.8\">samples = 114</text>\n<text fill=\"#000000\" font-family=\"Helvetica,sans-Serif\" font-size=\"14.00\" text-anchor=\"middle\" x=\"178.5\" y=\"-126.8\">value = [6, 108]</text>\n<text fill=\"#000000\" font-family=\"Helvetica,sans-Serif\" font-size=\"14.00\" text-anchor=\"middle\" x=\"178.5\" y=\"-111.8\">class = 1</text>\n</g>\n<!-- 1&#45;&gt;2 -->\n<g class=\"edge\" id=\"edge2\">\n<title>1-&gt;2</title>\n<path d=\"M300.4625,-224.3779C282.71,-212.8967 263.2867,-200.3349 245.2638,-188.6788\" fill=\"none\" stroke=\"#000000\"/>\n<polygon fill=\"#000000\" points=\"246.8398,-185.5299 236.5421,-183.0381 243.0383,-191.4077 246.8398,-185.5299\" stroke=\"#000000\"/>\n</g>\n<!-- 5 -->\n<g class=\"node\" id=\"node6\">\n<title>5</title>\n<polygon fill=\"#fbeee4\" points=\"420.5,-187 304.5,-187 304.5,-104 420.5,-104 420.5,-187\" stroke=\"#000000\"/>\n<text fill=\"#000000\" font-family=\"Helvetica,sans-Serif\" font-size=\"14.00\" text-anchor=\"middle\" x=\"362.5\" y=\"-171.8\">Age &lt;= 0.537</text>\n<text fill=\"#000000\" font-family=\"Helvetica,sans-Serif\" font-size=\"14.00\" text-anchor=\"middle\" x=\"362.5\" y=\"-156.8\">gini = 0.497</text>\n<text fill=\"#000000\" font-family=\"Helvetica,sans-Serif\" font-size=\"14.00\" text-anchor=\"middle\" x=\"362.5\" y=\"-141.8\">samples = 69</text>\n<text fill=\"#000000\" font-family=\"Helvetica,sans-Serif\" font-size=\"14.00\" text-anchor=\"middle\" x=\"362.5\" y=\"-126.8\">value = [37, 32]</text>\n<text fill=\"#000000\" font-family=\"Helvetica,sans-Serif\" font-size=\"14.00\" text-anchor=\"middle\" x=\"362.5\" y=\"-111.8\">class = 0</text>\n</g>\n<!-- 1&#45;&gt;5 -->\n<g class=\"edge\" id=\"edge5\">\n<title>1-&gt;5</title>\n<path d=\"M362.5,-222.8796C362.5,-214.6838 362.5,-205.9891 362.5,-197.5013\" fill=\"none\" stroke=\"#000000\"/>\n<polygon fill=\"#000000\" points=\"366.0001,-197.298 362.5,-187.2981 359.0001,-197.2981 366.0001,-197.298\" stroke=\"#000000\"/>\n</g>\n<!-- 3 -->\n<g class=\"node\" id=\"node4\">\n<title>3</title>\n<polygon fill=\"#399de5\" points=\"107,-68 0,-68 0,0 107,0 107,-68\" stroke=\"#000000\"/>\n<text fill=\"#000000\" font-family=\"Helvetica,sans-Serif\" font-size=\"14.00\" text-anchor=\"middle\" x=\"53.5\" y=\"-52.8\">gini = 0.0</text>\n<text fill=\"#000000\" font-family=\"Helvetica,sans-Serif\" font-size=\"14.00\" text-anchor=\"middle\" x=\"53.5\" y=\"-37.8\">samples = 40</text>\n<text fill=\"#000000\" font-family=\"Helvetica,sans-Serif\" font-size=\"14.00\" text-anchor=\"middle\" x=\"53.5\" y=\"-22.8\">value = [0, 40]</text>\n<text fill=\"#000000\" font-family=\"Helvetica,sans-Serif\" font-size=\"14.00\" text-anchor=\"middle\" x=\"53.5\" y=\"-7.8\">class = 1</text>\n</g>\n<!-- 2&#45;&gt;3 -->\n<g class=\"edge\" id=\"edge3\">\n<title>2-&gt;3</title>\n<path d=\"M131.9546,-103.9815C121.3421,-94.5151 110.0718,-84.462 99.4829,-75.0168\" fill=\"none\" stroke=\"#000000\"/>\n<polygon fill=\"#000000\" points=\"101.7046,-72.3084 91.9122,-68.2637 97.0449,-77.5322 101.7046,-72.3084\" stroke=\"#000000\"/>\n</g>\n<!-- 4 -->\n<g class=\"node\" id=\"node5\">\n<title>4</title>\n<polygon fill=\"#4aa6e7\" points=\"232,-68 125,-68 125,0 232,0 232,-68\" stroke=\"#000000\"/>\n<text fill=\"#000000\" font-family=\"Helvetica,sans-Serif\" font-size=\"14.00\" text-anchor=\"middle\" x=\"178.5\" y=\"-52.8\">gini = 0.149</text>\n<text fill=\"#000000\" font-family=\"Helvetica,sans-Serif\" font-size=\"14.00\" text-anchor=\"middle\" x=\"178.5\" y=\"-37.8\">samples = 74</text>\n<text fill=\"#000000\" font-family=\"Helvetica,sans-Serif\" font-size=\"14.00\" text-anchor=\"middle\" x=\"178.5\" y=\"-22.8\">value = [6, 68]</text>\n<text fill=\"#000000\" font-family=\"Helvetica,sans-Serif\" font-size=\"14.00\" text-anchor=\"middle\" x=\"178.5\" y=\"-7.8\">class = 1</text>\n</g>\n<!-- 2&#45;&gt;4 -->\n<g class=\"edge\" id=\"edge4\">\n<title>2-&gt;4</title>\n<path d=\"M178.5,-103.9815C178.5,-95.618 178.5,-86.7965 178.5,-78.3409\" fill=\"none\" stroke=\"#000000\"/>\n<polygon fill=\"#000000\" points=\"182.0001,-78.2636 178.5,-68.2637 175.0001,-78.2637 182.0001,-78.2636\" stroke=\"#000000\"/>\n</g>\n<!-- 6 -->\n<g class=\"node\" id=\"node7\">\n<title>6</title>\n<polygon fill=\"#fefbf9\" points=\"366.5,-68 250.5,-68 250.5,0 366.5,0 366.5,-68\" stroke=\"#000000\"/>\n<text fill=\"#000000\" font-family=\"Helvetica,sans-Serif\" font-size=\"14.00\" text-anchor=\"middle\" x=\"308.5\" y=\"-52.8\">gini = 0.5</text>\n<text fill=\"#000000\" font-family=\"Helvetica,sans-Serif\" font-size=\"14.00\" text-anchor=\"middle\" x=\"308.5\" y=\"-37.8\">samples = 65</text>\n<text fill=\"#000000\" font-family=\"Helvetica,sans-Serif\" font-size=\"14.00\" text-anchor=\"middle\" x=\"308.5\" y=\"-22.8\">value = [33, 32]</text>\n<text fill=\"#000000\" font-family=\"Helvetica,sans-Serif\" font-size=\"14.00\" text-anchor=\"middle\" x=\"308.5\" y=\"-7.8\">class = 0</text>\n</g>\n<!-- 5&#45;&gt;6 -->\n<g class=\"edge\" id=\"edge6\">\n<title>5-&gt;6</title>\n<path d=\"M342.3924,-103.9815C338.2084,-95.3423 333.7877,-86.2144 329.5701,-77.5059\" fill=\"none\" stroke=\"#000000\"/>\n<polygon fill=\"#000000\" points=\"332.6029,-75.7382 325.0941,-68.2637 326.3029,-78.7893 332.6029,-75.7382\" stroke=\"#000000\"/>\n</g>\n<!-- 7 -->\n<g class=\"node\" id=\"node8\">\n<title>7</title>\n<polygon fill=\"#e58139\" points=\"484,-68 385,-68 385,0 484,0 484,-68\" stroke=\"#000000\"/>\n<text fill=\"#000000\" font-family=\"Helvetica,sans-Serif\" font-size=\"14.00\" text-anchor=\"middle\" x=\"434.5\" y=\"-52.8\">gini = 0.0</text>\n<text fill=\"#000000\" font-family=\"Helvetica,sans-Serif\" font-size=\"14.00\" text-anchor=\"middle\" x=\"434.5\" y=\"-37.8\">samples = 4</text>\n<text fill=\"#000000\" font-family=\"Helvetica,sans-Serif\" font-size=\"14.00\" text-anchor=\"middle\" x=\"434.5\" y=\"-22.8\">value = [4, 0]</text>\n<text fill=\"#000000\" font-family=\"Helvetica,sans-Serif\" font-size=\"14.00\" text-anchor=\"middle\" x=\"434.5\" y=\"-7.8\">class = 0</text>\n</g>\n<!-- 5&#45;&gt;7 -->\n<g class=\"edge\" id=\"edge7\">\n<title>5-&gt;7</title>\n<path d=\"M389.3101,-103.9815C395.0669,-95.0666 401.1596,-85.6313 406.9441,-76.6734\" fill=\"none\" stroke=\"#000000\"/>\n<polygon fill=\"#000000\" points=\"409.8901,-78.5631 412.3746,-68.2637 404.0096,-74.7658 409.8901,-78.5631\" stroke=\"#000000\"/>\n</g>\n<!-- 9 -->\n<g class=\"node\" id=\"node10\">\n<title>9</title>\n<polygon fill=\"#96cbf1\" points=\"667.5,-187 551.5,-187 551.5,-104 667.5,-104 667.5,-187\" stroke=\"#000000\"/>\n<text fill=\"#000000\" font-family=\"Helvetica,sans-Serif\" font-size=\"14.00\" text-anchor=\"middle\" x=\"609.5\" y=\"-171.8\">SibSp &lt;= 2.139</text>\n<text fill=\"#000000\" font-family=\"Helvetica,sans-Serif\" font-size=\"14.00\" text-anchor=\"middle\" x=\"609.5\" y=\"-156.8\">gini = 0.435</text>\n<text fill=\"#000000\" font-family=\"Helvetica,sans-Serif\" font-size=\"14.00\" text-anchor=\"middle\" x=\"609.5\" y=\"-141.8\">samples = 25</text>\n<text fill=\"#000000\" font-family=\"Helvetica,sans-Serif\" font-size=\"14.00\" text-anchor=\"middle\" x=\"609.5\" y=\"-126.8\">value = [8, 17]</text>\n<text fill=\"#000000\" font-family=\"Helvetica,sans-Serif\" font-size=\"14.00\" text-anchor=\"middle\" x=\"609.5\" y=\"-111.8\">class = 1</text>\n</g>\n<!-- 8&#45;&gt;9 -->\n<g class=\"edge\" id=\"edge9\">\n<title>8-&gt;9</title>\n<path d=\"M609.5,-222.8796C609.5,-214.6838 609.5,-205.9891 609.5,-197.5013\" fill=\"none\" stroke=\"#000000\"/>\n<polygon fill=\"#000000\" points=\"613.0001,-197.298 609.5,-187.2981 606.0001,-197.2981 613.0001,-197.298\" stroke=\"#000000\"/>\n</g>\n<!-- 12 -->\n<g class=\"node\" id=\"node13\">\n<title>12</title>\n<polygon fill=\"#ea9b61\" points=\"865,-187 740,-187 740,-104 865,-104 865,-187\" stroke=\"#000000\"/>\n<text fill=\"#000000\" font-family=\"Helvetica,sans-Serif\" font-size=\"14.00\" text-anchor=\"middle\" x=\"802.5\" y=\"-171.8\">Pclass &lt;= -0.879</text>\n<text fill=\"#000000\" font-family=\"Helvetica,sans-Serif\" font-size=\"14.00\" text-anchor=\"middle\" x=\"802.5\" y=\"-156.8\">gini = 0.28</text>\n<text fill=\"#000000\" font-family=\"Helvetica,sans-Serif\" font-size=\"14.00\" text-anchor=\"middle\" x=\"802.5\" y=\"-141.8\">samples = 291</text>\n<text fill=\"#000000\" font-family=\"Helvetica,sans-Serif\" font-size=\"14.00\" text-anchor=\"middle\" x=\"802.5\" y=\"-126.8\">value = [242, 49]</text>\n<text fill=\"#000000\" font-family=\"Helvetica,sans-Serif\" font-size=\"14.00\" text-anchor=\"middle\" x=\"802.5\" y=\"-111.8\">class = 0</text>\n</g>\n<!-- 8&#45;&gt;12 -->\n<g class=\"edge\" id=\"edge12\">\n<title>8-&gt;12</title>\n<path d=\"M671.6288,-226.1926C690.6349,-214.4738 711.6872,-201.4934 731.2503,-189.4312\" fill=\"none\" stroke=\"#000000\"/>\n<polygon fill=\"#000000\" points=\"733.1508,-192.3712 739.8259,-184.1436 729.4769,-186.4128 733.1508,-192.3712\" stroke=\"#000000\"/>\n</g>\n<!-- 10 -->\n<g class=\"node\" id=\"node11\">\n<title>10</title>\n<polygon fill=\"#399de5\" points=\"609,-68 502,-68 502,0 609,0 609,-68\" stroke=\"#000000\"/>\n<text fill=\"#000000\" font-family=\"Helvetica,sans-Serif\" font-size=\"14.00\" text-anchor=\"middle\" x=\"555.5\" y=\"-52.8\">gini = 0.0</text>\n<text fill=\"#000000\" font-family=\"Helvetica,sans-Serif\" font-size=\"14.00\" text-anchor=\"middle\" x=\"555.5\" y=\"-37.8\">samples = 16</text>\n<text fill=\"#000000\" font-family=\"Helvetica,sans-Serif\" font-size=\"14.00\" text-anchor=\"middle\" x=\"555.5\" y=\"-22.8\">value = [0, 16]</text>\n<text fill=\"#000000\" font-family=\"Helvetica,sans-Serif\" font-size=\"14.00\" text-anchor=\"middle\" x=\"555.5\" y=\"-7.8\">class = 1</text>\n</g>\n<!-- 9&#45;&gt;10 -->\n<g class=\"edge\" id=\"edge10\">\n<title>9-&gt;10</title>\n<path d=\"M589.3924,-103.9815C585.2084,-95.3423 580.7877,-86.2144 576.5701,-77.5059\" fill=\"none\" stroke=\"#000000\"/>\n<polygon fill=\"#000000\" points=\"579.6029,-75.7382 572.0941,-68.2637 573.3029,-78.7893 579.6029,-75.7382\" stroke=\"#000000\"/>\n</g>\n<!-- 11 -->\n<g class=\"node\" id=\"node12\">\n<title>11</title>\n<polygon fill=\"#e89152\" points=\"726,-68 627,-68 627,0 726,0 726,-68\" stroke=\"#000000\"/>\n<text fill=\"#000000\" font-family=\"Helvetica,sans-Serif\" font-size=\"14.00\" text-anchor=\"middle\" x=\"676.5\" y=\"-52.8\">gini = 0.198</text>\n<text fill=\"#000000\" font-family=\"Helvetica,sans-Serif\" font-size=\"14.00\" text-anchor=\"middle\" x=\"676.5\" y=\"-37.8\">samples = 9</text>\n<text fill=\"#000000\" font-family=\"Helvetica,sans-Serif\" font-size=\"14.00\" text-anchor=\"middle\" x=\"676.5\" y=\"-22.8\">value = [8, 1]</text>\n<text fill=\"#000000\" font-family=\"Helvetica,sans-Serif\" font-size=\"14.00\" text-anchor=\"middle\" x=\"676.5\" y=\"-7.8\">class = 0</text>\n</g>\n<!-- 9&#45;&gt;11 -->\n<g class=\"edge\" id=\"edge11\">\n<title>9-&gt;11</title>\n<path d=\"M634.4483,-103.9815C639.7501,-95.1585 645.3581,-85.8258 650.6911,-76.9506\" fill=\"none\" stroke=\"#000000\"/>\n<polygon fill=\"#000000\" points=\"653.7605,-78.638 655.9111,-68.2637 647.7604,-75.0325 653.7605,-78.638\" stroke=\"#000000\"/>\n</g>\n<!-- 13 -->\n<g class=\"node\" id=\"node14\">\n<title>13</title>\n<polygon fill=\"#f3c7a7\" points=\"860.5,-68 744.5,-68 744.5,0 860.5,0 860.5,-68\" stroke=\"#000000\"/>\n<text fill=\"#000000\" font-family=\"Helvetica,sans-Serif\" font-size=\"14.00\" text-anchor=\"middle\" x=\"802.5\" y=\"-52.8\">gini = 0.459</text>\n<text fill=\"#000000\" font-family=\"Helvetica,sans-Serif\" font-size=\"14.00\" text-anchor=\"middle\" x=\"802.5\" y=\"-37.8\">samples = 73</text>\n<text fill=\"#000000\" font-family=\"Helvetica,sans-Serif\" font-size=\"14.00\" text-anchor=\"middle\" x=\"802.5\" y=\"-22.8\">value = [47, 26]</text>\n<text fill=\"#000000\" font-family=\"Helvetica,sans-Serif\" font-size=\"14.00\" text-anchor=\"middle\" x=\"802.5\" y=\"-7.8\">class = 0</text>\n</g>\n<!-- 12&#45;&gt;13 -->\n<g class=\"edge\" id=\"edge13\">\n<title>12-&gt;13</title>\n<path d=\"M802.5,-103.9815C802.5,-95.618 802.5,-86.7965 802.5,-78.3409\" fill=\"none\" stroke=\"#000000\"/>\n<polygon fill=\"#000000\" points=\"806.0001,-78.2636 802.5,-68.2637 799.0001,-78.2637 806.0001,-78.2636\" stroke=\"#000000\"/>\n</g>\n<!-- 14 -->\n<g class=\"node\" id=\"node15\">\n<title>14</title>\n<polygon fill=\"#e89050\" points=\"1002.5,-68 878.5,-68 878.5,0 1002.5,0 1002.5,-68\" stroke=\"#000000\"/>\n<text fill=\"#000000\" font-family=\"Helvetica,sans-Serif\" font-size=\"14.00\" text-anchor=\"middle\" x=\"940.5\" y=\"-52.8\">gini = 0.189</text>\n<text fill=\"#000000\" font-family=\"Helvetica,sans-Serif\" font-size=\"14.00\" text-anchor=\"middle\" x=\"940.5\" y=\"-37.8\">samples = 218</text>\n<text fill=\"#000000\" font-family=\"Helvetica,sans-Serif\" font-size=\"14.00\" text-anchor=\"middle\" x=\"940.5\" y=\"-22.8\">value = [195, 23]</text>\n<text fill=\"#000000\" font-family=\"Helvetica,sans-Serif\" font-size=\"14.00\" text-anchor=\"middle\" x=\"940.5\" y=\"-7.8\">class = 0</text>\n</g>\n<!-- 12&#45;&gt;14 -->\n<g class=\"edge\" id=\"edge14\">\n<title>12-&gt;14</title>\n<path d=\"M853.8861,-103.9815C865.7161,-94.4232 878.2864,-84.2668 890.0751,-74.7419\" fill=\"none\" stroke=\"#000000\"/>\n<polygon fill=\"#000000\" points=\"892.5142,-77.2708 898.0929,-68.2637 888.1149,-71.826 892.5142,-77.2708\" stroke=\"#000000\"/>\n</g>\n</g>\n</svg>"
                },
                "metadata": {}
              }
            ]
          }
        },
        "15ffd0c3190541c5835bdbcf476a0335": {
          "model_module": "@jupyter-widgets/base",
          "model_name": "LayoutModel",
          "model_module_version": "1.2.0",
          "state": {
            "_model_module": "@jupyter-widgets/base",
            "_model_module_version": "1.2.0",
            "_model_name": "LayoutModel",
            "_view_count": null,
            "_view_module": "@jupyter-widgets/base",
            "_view_module_version": "1.2.0",
            "_view_name": "LayoutView",
            "align_content": null,
            "align_items": null,
            "align_self": null,
            "border": null,
            "bottom": null,
            "display": null,
            "flex": null,
            "flex_flow": null,
            "grid_area": null,
            "grid_auto_columns": null,
            "grid_auto_flow": null,
            "grid_auto_rows": null,
            "grid_column": null,
            "grid_gap": null,
            "grid_row": null,
            "grid_template_areas": null,
            "grid_template_columns": null,
            "grid_template_rows": null,
            "height": null,
            "justify_content": null,
            "justify_items": null,
            "left": null,
            "margin": null,
            "max_height": null,
            "max_width": null,
            "min_height": null,
            "min_width": null,
            "object_fit": null,
            "object_position": null,
            "order": null,
            "overflow": null,
            "overflow_x": null,
            "overflow_y": null,
            "padding": null,
            "right": null,
            "top": null,
            "visibility": null,
            "width": null
          }
        },
        "6af0fdc79b6b421d962232ae1881d266": {
          "model_module": "@jupyter-widgets/base",
          "model_name": "LayoutModel",
          "model_module_version": "1.2.0",
          "state": {
            "_model_module": "@jupyter-widgets/base",
            "_model_module_version": "1.2.0",
            "_model_name": "LayoutModel",
            "_view_count": null,
            "_view_module": "@jupyter-widgets/base",
            "_view_module_version": "1.2.0",
            "_view_name": "LayoutView",
            "align_content": null,
            "align_items": null,
            "align_self": null,
            "border": null,
            "bottom": null,
            "display": null,
            "flex": null,
            "flex_flow": null,
            "grid_area": null,
            "grid_auto_columns": null,
            "grid_auto_flow": null,
            "grid_auto_rows": null,
            "grid_column": null,
            "grid_gap": null,
            "grid_row": null,
            "grid_template_areas": null,
            "grid_template_columns": null,
            "grid_template_rows": null,
            "height": null,
            "justify_content": null,
            "justify_items": null,
            "left": null,
            "margin": null,
            "max_height": null,
            "max_width": null,
            "min_height": null,
            "min_width": null,
            "object_fit": null,
            "object_position": null,
            "order": null,
            "overflow": null,
            "overflow_x": null,
            "overflow_y": null,
            "padding": null,
            "right": null,
            "top": null,
            "visibility": null,
            "width": null
          }
        },
        "e23bb66ac4fc4a2faaaeb720f0918090": {
          "model_module": "@jupyter-widgets/controls",
          "model_name": "DescriptionStyleModel",
          "model_module_version": "1.5.0",
          "state": {
            "_model_module": "@jupyter-widgets/controls",
            "_model_module_version": "1.5.0",
            "_model_name": "DescriptionStyleModel",
            "_view_count": null,
            "_view_module": "@jupyter-widgets/base",
            "_view_module_version": "1.2.0",
            "_view_name": "StyleView",
            "description_width": ""
          }
        },
        "6d44ff2385de4e7887bf3c80cc2ac61c": {
          "model_module": "@jupyter-widgets/base",
          "model_name": "LayoutModel",
          "model_module_version": "1.2.0",
          "state": {
            "_model_module": "@jupyter-widgets/base",
            "_model_module_version": "1.2.0",
            "_model_name": "LayoutModel",
            "_view_count": null,
            "_view_module": "@jupyter-widgets/base",
            "_view_module_version": "1.2.0",
            "_view_name": "LayoutView",
            "align_content": null,
            "align_items": null,
            "align_self": null,
            "border": null,
            "bottom": null,
            "display": null,
            "flex": null,
            "flex_flow": null,
            "grid_area": null,
            "grid_auto_columns": null,
            "grid_auto_flow": null,
            "grid_auto_rows": null,
            "grid_column": null,
            "grid_gap": null,
            "grid_row": null,
            "grid_template_areas": null,
            "grid_template_columns": null,
            "grid_template_rows": null,
            "height": null,
            "justify_content": null,
            "justify_items": null,
            "left": null,
            "margin": null,
            "max_height": null,
            "max_width": null,
            "min_height": null,
            "min_width": null,
            "object_fit": null,
            "object_position": null,
            "order": null,
            "overflow": null,
            "overflow_x": null,
            "overflow_y": null,
            "padding": null,
            "right": null,
            "top": null,
            "visibility": null,
            "width": null
          }
        },
        "ac1004a5449b4b2dad9fa8cafc1caafd": {
          "model_module": "@jupyter-widgets/controls",
          "model_name": "DescriptionStyleModel",
          "model_module_version": "1.5.0",
          "state": {
            "_model_module": "@jupyter-widgets/controls",
            "_model_module_version": "1.5.0",
            "_model_name": "DescriptionStyleModel",
            "_view_count": null,
            "_view_module": "@jupyter-widgets/base",
            "_view_module_version": "1.2.0",
            "_view_name": "StyleView",
            "description_width": ""
          }
        },
        "72b3247a822b427a8444c6d137e4835e": {
          "model_module": "@jupyter-widgets/base",
          "model_name": "LayoutModel",
          "model_module_version": "1.2.0",
          "state": {
            "_model_module": "@jupyter-widgets/base",
            "_model_module_version": "1.2.0",
            "_model_name": "LayoutModel",
            "_view_count": null,
            "_view_module": "@jupyter-widgets/base",
            "_view_module_version": "1.2.0",
            "_view_name": "LayoutView",
            "align_content": null,
            "align_items": null,
            "align_self": null,
            "border": null,
            "bottom": null,
            "display": null,
            "flex": null,
            "flex_flow": null,
            "grid_area": null,
            "grid_auto_columns": null,
            "grid_auto_flow": null,
            "grid_auto_rows": null,
            "grid_column": null,
            "grid_gap": null,
            "grid_row": null,
            "grid_template_areas": null,
            "grid_template_columns": null,
            "grid_template_rows": null,
            "height": null,
            "justify_content": null,
            "justify_items": null,
            "left": null,
            "margin": null,
            "max_height": null,
            "max_width": null,
            "min_height": null,
            "min_width": null,
            "object_fit": null,
            "object_position": null,
            "order": null,
            "overflow": null,
            "overflow_x": null,
            "overflow_y": null,
            "padding": null,
            "right": null,
            "top": null,
            "visibility": null,
            "width": null
          }
        },
        "0a160c2f995d4100bcb9bd08eafe2cdb": {
          "model_module": "@jupyter-widgets/controls",
          "model_name": "DescriptionStyleModel",
          "model_module_version": "1.5.0",
          "state": {
            "_model_module": "@jupyter-widgets/controls",
            "_model_module_version": "1.5.0",
            "_model_name": "DescriptionStyleModel",
            "_view_count": null,
            "_view_module": "@jupyter-widgets/base",
            "_view_module_version": "1.2.0",
            "_view_name": "StyleView",
            "description_width": ""
          }
        },
        "486c872b681342dfab8b62fd2d9dc4b6": {
          "model_module": "@jupyter-widgets/base",
          "model_name": "LayoutModel",
          "model_module_version": "1.2.0",
          "state": {
            "_model_module": "@jupyter-widgets/base",
            "_model_module_version": "1.2.0",
            "_model_name": "LayoutModel",
            "_view_count": null,
            "_view_module": "@jupyter-widgets/base",
            "_view_module_version": "1.2.0",
            "_view_name": "LayoutView",
            "align_content": null,
            "align_items": null,
            "align_self": null,
            "border": null,
            "bottom": null,
            "display": null,
            "flex": null,
            "flex_flow": null,
            "grid_area": null,
            "grid_auto_columns": null,
            "grid_auto_flow": null,
            "grid_auto_rows": null,
            "grid_column": null,
            "grid_gap": null,
            "grid_row": null,
            "grid_template_areas": null,
            "grid_template_columns": null,
            "grid_template_rows": null,
            "height": null,
            "justify_content": null,
            "justify_items": null,
            "left": null,
            "margin": null,
            "max_height": null,
            "max_width": null,
            "min_height": null,
            "min_width": null,
            "object_fit": null,
            "object_position": null,
            "order": null,
            "overflow": null,
            "overflow_x": null,
            "overflow_y": null,
            "padding": null,
            "right": null,
            "top": null,
            "visibility": null,
            "width": null
          }
        },
        "62de4c73b17e41cabd3f75949eb133f3": {
          "model_module": "@jupyter-widgets/controls",
          "model_name": "SliderStyleModel",
          "model_module_version": "1.5.0",
          "state": {
            "_model_module": "@jupyter-widgets/controls",
            "_model_module_version": "1.5.0",
            "_model_name": "SliderStyleModel",
            "_view_count": null,
            "_view_module": "@jupyter-widgets/base",
            "_view_module_version": "1.2.0",
            "_view_name": "StyleView",
            "description_width": "",
            "handle_color": null
          }
        },
        "18bd64ab25eb4f6c81516040989b788a": {
          "model_module": "@jupyter-widgets/base",
          "model_name": "LayoutModel",
          "model_module_version": "1.2.0",
          "state": {
            "_model_module": "@jupyter-widgets/base",
            "_model_module_version": "1.2.0",
            "_model_name": "LayoutModel",
            "_view_count": null,
            "_view_module": "@jupyter-widgets/base",
            "_view_module_version": "1.2.0",
            "_view_name": "LayoutView",
            "align_content": null,
            "align_items": null,
            "align_self": null,
            "border": null,
            "bottom": null,
            "display": null,
            "flex": null,
            "flex_flow": null,
            "grid_area": null,
            "grid_auto_columns": null,
            "grid_auto_flow": null,
            "grid_auto_rows": null,
            "grid_column": null,
            "grid_gap": null,
            "grid_row": null,
            "grid_template_areas": null,
            "grid_template_columns": null,
            "grid_template_rows": null,
            "height": null,
            "justify_content": null,
            "justify_items": null,
            "left": null,
            "margin": null,
            "max_height": null,
            "max_width": null,
            "min_height": null,
            "min_width": null,
            "object_fit": null,
            "object_position": null,
            "order": null,
            "overflow": null,
            "overflow_x": null,
            "overflow_y": null,
            "padding": null,
            "right": null,
            "top": null,
            "visibility": null,
            "width": null
          }
        },
        "abd97c8d216a4978b8dfa090144f34fb": {
          "model_module": "@jupyter-widgets/controls",
          "model_name": "SliderStyleModel",
          "model_module_version": "1.5.0",
          "state": {
            "_model_module": "@jupyter-widgets/controls",
            "_model_module_version": "1.5.0",
            "_model_name": "SliderStyleModel",
            "_view_count": null,
            "_view_module": "@jupyter-widgets/base",
            "_view_module_version": "1.2.0",
            "_view_name": "StyleView",
            "description_width": "",
            "handle_color": null
          }
        },
        "34676e038c35498d9c8da48c9eb3c104": {
          "model_module": "@jupyter-widgets/base",
          "model_name": "LayoutModel",
          "model_module_version": "1.2.0",
          "state": {
            "_model_module": "@jupyter-widgets/base",
            "_model_module_version": "1.2.0",
            "_model_name": "LayoutModel",
            "_view_count": null,
            "_view_module": "@jupyter-widgets/base",
            "_view_module_version": "1.2.0",
            "_view_name": "LayoutView",
            "align_content": null,
            "align_items": null,
            "align_self": null,
            "border": null,
            "bottom": null,
            "display": null,
            "flex": null,
            "flex_flow": null,
            "grid_area": null,
            "grid_auto_columns": null,
            "grid_auto_flow": null,
            "grid_auto_rows": null,
            "grid_column": null,
            "grid_gap": null,
            "grid_row": null,
            "grid_template_areas": null,
            "grid_template_columns": null,
            "grid_template_rows": null,
            "height": null,
            "justify_content": null,
            "justify_items": null,
            "left": null,
            "margin": null,
            "max_height": null,
            "max_width": null,
            "min_height": null,
            "min_width": null,
            "object_fit": null,
            "object_position": null,
            "order": null,
            "overflow": null,
            "overflow_x": null,
            "overflow_y": null,
            "padding": null,
            "right": null,
            "top": null,
            "visibility": null,
            "width": null
          }
        }
      }
    },
    "accelerator": "GPU"
  },
  "cells": [
    {
      "cell_type": "code",
      "execution_count": 1,
      "metadata": {
        "id": "iq2x2GV_6S36"
      },
      "outputs": [],
      "source": [
        "import pandas as pd\n",
        "import numpy as np\n",
        "import tensorflow as tf\n",
        "import seaborn as sns\n",
        "import pydot\n",
        "import graphviz\n",
        "from matplotlib import pyplot as plt\n",
        "from sklearn.preprocessing import OneHotEncoder\n",
        "from keras.utils import np_utils\n",
        "from keras.datasets import mnist\n",
        "from sklearn.neural_network import MLPClassifier\n",
        "\n",
        "from sklearn.model_selection import train_test_split\n",
        "from sklearn.tree import DecisionTreeClassifier\n",
        "from sklearn.preprocessing import MinMaxScaler\n",
        "\n",
        "from sklearn.metrics import classification_report, accuracy_score, confusion_matrix\n",
        "\n",
        "from ipywidgets import interactive\n",
        "from graphviz import Source\n",
        "from IPython.display import SVG,display\n",
        "\n",
        "\n",
        "from sklearn.tree import export_graphviz\n",
        "from sklearn.tree import plot_tree"
      ]
    },
    {
      "cell_type": "code",
      "source": [
        "from google.colab import drive\n",
        "drive.mount('/content/drive')"
      ],
      "metadata": {
        "colab": {
          "base_uri": "https://localhost:8080/"
        },
        "id": "OUsYe39GPH33",
        "outputId": "6556bc9a-dc63-4704-eed6-f823e117bd5d"
      },
      "execution_count": 2,
      "outputs": [
        {
          "output_type": "stream",
          "name": "stdout",
          "text": [
            "Mounted at /content/drive\n"
          ]
        }
      ]
    },
    {
      "cell_type": "markdown",
      "source": [
        "# Questão 1"
      ],
      "metadata": {
        "id": "Quevig8iSLJs"
      }
    },
    {
      "cell_type": "markdown",
      "source": [
        "## Processamento dos dados"
      ],
      "metadata": {
        "id": "FOAe-evY7WxZ"
      }
    },
    {
      "cell_type": "code",
      "source": [
        "data_train = pd.read_csv(\"train.csv\")\n",
        "data_train"
      ],
      "metadata": {
        "colab": {
          "base_uri": "https://localhost:8080/",
          "height": 424
        },
        "id": "Ce6KeCfn6ssh",
        "outputId": "250b003c-a3b2-432b-eca6-34438b098238"
      },
      "execution_count": null,
      "outputs": [
        {
          "output_type": "execute_result",
          "data": {
            "text/plain": [
              "     PassengerId  Survived  Pclass  \\\n",
              "0              1         0       3   \n",
              "1              2         1       1   \n",
              "2              3         1       3   \n",
              "3              4         1       1   \n",
              "4              5         0       3   \n",
              "..           ...       ...     ...   \n",
              "886          887         0       2   \n",
              "887          888         1       1   \n",
              "888          889         0       3   \n",
              "889          890         1       1   \n",
              "890          891         0       3   \n",
              "\n",
              "                                                  Name     Sex   Age  SibSp  \\\n",
              "0                              Braund, Mr. Owen Harris    male  22.0      1   \n",
              "1    Cumings, Mrs. John Bradley (Florence Briggs Th...  female  38.0      1   \n",
              "2                               Heikkinen, Miss. Laina  female  26.0      0   \n",
              "3         Futrelle, Mrs. Jacques Heath (Lily May Peel)  female  35.0      1   \n",
              "4                             Allen, Mr. William Henry    male  35.0      0   \n",
              "..                                                 ...     ...   ...    ...   \n",
              "886                              Montvila, Rev. Juozas    male  27.0      0   \n",
              "887                       Graham, Miss. Margaret Edith  female  19.0      0   \n",
              "888           Johnston, Miss. Catherine Helen \"Carrie\"  female   NaN      1   \n",
              "889                              Behr, Mr. Karl Howell    male  26.0      0   \n",
              "890                                Dooley, Mr. Patrick    male  32.0      0   \n",
              "\n",
              "     Parch            Ticket     Fare Cabin Embarked  \n",
              "0        0         A/5 21171   7.2500   NaN        S  \n",
              "1        0          PC 17599  71.2833   C85        C  \n",
              "2        0  STON/O2. 3101282   7.9250   NaN        S  \n",
              "3        0            113803  53.1000  C123        S  \n",
              "4        0            373450   8.0500   NaN        S  \n",
              "..     ...               ...      ...   ...      ...  \n",
              "886      0            211536  13.0000   NaN        S  \n",
              "887      0            112053  30.0000   B42        S  \n",
              "888      2        W./C. 6607  23.4500   NaN        S  \n",
              "889      0            111369  30.0000  C148        C  \n",
              "890      0            370376   7.7500   NaN        Q  \n",
              "\n",
              "[891 rows x 12 columns]"
            ],
            "text/html": [
              "\n",
              "  <div id=\"df-e45f109b-e290-4d2c-9c53-e802fc09f8da\">\n",
              "    <div class=\"colab-df-container\">\n",
              "      <div>\n",
              "<style scoped>\n",
              "    .dataframe tbody tr th:only-of-type {\n",
              "        vertical-align: middle;\n",
              "    }\n",
              "\n",
              "    .dataframe tbody tr th {\n",
              "        vertical-align: top;\n",
              "    }\n",
              "\n",
              "    .dataframe thead th {\n",
              "        text-align: right;\n",
              "    }\n",
              "</style>\n",
              "<table border=\"1\" class=\"dataframe\">\n",
              "  <thead>\n",
              "    <tr style=\"text-align: right;\">\n",
              "      <th></th>\n",
              "      <th>PassengerId</th>\n",
              "      <th>Survived</th>\n",
              "      <th>Pclass</th>\n",
              "      <th>Name</th>\n",
              "      <th>Sex</th>\n",
              "      <th>Age</th>\n",
              "      <th>SibSp</th>\n",
              "      <th>Parch</th>\n",
              "      <th>Ticket</th>\n",
              "      <th>Fare</th>\n",
              "      <th>Cabin</th>\n",
              "      <th>Embarked</th>\n",
              "    </tr>\n",
              "  </thead>\n",
              "  <tbody>\n",
              "    <tr>\n",
              "      <th>0</th>\n",
              "      <td>1</td>\n",
              "      <td>0</td>\n",
              "      <td>3</td>\n",
              "      <td>Braund, Mr. Owen Harris</td>\n",
              "      <td>male</td>\n",
              "      <td>22.0</td>\n",
              "      <td>1</td>\n",
              "      <td>0</td>\n",
              "      <td>A/5 21171</td>\n",
              "      <td>7.2500</td>\n",
              "      <td>NaN</td>\n",
              "      <td>S</td>\n",
              "    </tr>\n",
              "    <tr>\n",
              "      <th>1</th>\n",
              "      <td>2</td>\n",
              "      <td>1</td>\n",
              "      <td>1</td>\n",
              "      <td>Cumings, Mrs. John Bradley (Florence Briggs Th...</td>\n",
              "      <td>female</td>\n",
              "      <td>38.0</td>\n",
              "      <td>1</td>\n",
              "      <td>0</td>\n",
              "      <td>PC 17599</td>\n",
              "      <td>71.2833</td>\n",
              "      <td>C85</td>\n",
              "      <td>C</td>\n",
              "    </tr>\n",
              "    <tr>\n",
              "      <th>2</th>\n",
              "      <td>3</td>\n",
              "      <td>1</td>\n",
              "      <td>3</td>\n",
              "      <td>Heikkinen, Miss. Laina</td>\n",
              "      <td>female</td>\n",
              "      <td>26.0</td>\n",
              "      <td>0</td>\n",
              "      <td>0</td>\n",
              "      <td>STON/O2. 3101282</td>\n",
              "      <td>7.9250</td>\n",
              "      <td>NaN</td>\n",
              "      <td>S</td>\n",
              "    </tr>\n",
              "    <tr>\n",
              "      <th>3</th>\n",
              "      <td>4</td>\n",
              "      <td>1</td>\n",
              "      <td>1</td>\n",
              "      <td>Futrelle, Mrs. Jacques Heath (Lily May Peel)</td>\n",
              "      <td>female</td>\n",
              "      <td>35.0</td>\n",
              "      <td>1</td>\n",
              "      <td>0</td>\n",
              "      <td>113803</td>\n",
              "      <td>53.1000</td>\n",
              "      <td>C123</td>\n",
              "      <td>S</td>\n",
              "    </tr>\n",
              "    <tr>\n",
              "      <th>4</th>\n",
              "      <td>5</td>\n",
              "      <td>0</td>\n",
              "      <td>3</td>\n",
              "      <td>Allen, Mr. William Henry</td>\n",
              "      <td>male</td>\n",
              "      <td>35.0</td>\n",
              "      <td>0</td>\n",
              "      <td>0</td>\n",
              "      <td>373450</td>\n",
              "      <td>8.0500</td>\n",
              "      <td>NaN</td>\n",
              "      <td>S</td>\n",
              "    </tr>\n",
              "    <tr>\n",
              "      <th>...</th>\n",
              "      <td>...</td>\n",
              "      <td>...</td>\n",
              "      <td>...</td>\n",
              "      <td>...</td>\n",
              "      <td>...</td>\n",
              "      <td>...</td>\n",
              "      <td>...</td>\n",
              "      <td>...</td>\n",
              "      <td>...</td>\n",
              "      <td>...</td>\n",
              "      <td>...</td>\n",
              "      <td>...</td>\n",
              "    </tr>\n",
              "    <tr>\n",
              "      <th>886</th>\n",
              "      <td>887</td>\n",
              "      <td>0</td>\n",
              "      <td>2</td>\n",
              "      <td>Montvila, Rev. Juozas</td>\n",
              "      <td>male</td>\n",
              "      <td>27.0</td>\n",
              "      <td>0</td>\n",
              "      <td>0</td>\n",
              "      <td>211536</td>\n",
              "      <td>13.0000</td>\n",
              "      <td>NaN</td>\n",
              "      <td>S</td>\n",
              "    </tr>\n",
              "    <tr>\n",
              "      <th>887</th>\n",
              "      <td>888</td>\n",
              "      <td>1</td>\n",
              "      <td>1</td>\n",
              "      <td>Graham, Miss. Margaret Edith</td>\n",
              "      <td>female</td>\n",
              "      <td>19.0</td>\n",
              "      <td>0</td>\n",
              "      <td>0</td>\n",
              "      <td>112053</td>\n",
              "      <td>30.0000</td>\n",
              "      <td>B42</td>\n",
              "      <td>S</td>\n",
              "    </tr>\n",
              "    <tr>\n",
              "      <th>888</th>\n",
              "      <td>889</td>\n",
              "      <td>0</td>\n",
              "      <td>3</td>\n",
              "      <td>Johnston, Miss. Catherine Helen \"Carrie\"</td>\n",
              "      <td>female</td>\n",
              "      <td>NaN</td>\n",
              "      <td>1</td>\n",
              "      <td>2</td>\n",
              "      <td>W./C. 6607</td>\n",
              "      <td>23.4500</td>\n",
              "      <td>NaN</td>\n",
              "      <td>S</td>\n",
              "    </tr>\n",
              "    <tr>\n",
              "      <th>889</th>\n",
              "      <td>890</td>\n",
              "      <td>1</td>\n",
              "      <td>1</td>\n",
              "      <td>Behr, Mr. Karl Howell</td>\n",
              "      <td>male</td>\n",
              "      <td>26.0</td>\n",
              "      <td>0</td>\n",
              "      <td>0</td>\n",
              "      <td>111369</td>\n",
              "      <td>30.0000</td>\n",
              "      <td>C148</td>\n",
              "      <td>C</td>\n",
              "    </tr>\n",
              "    <tr>\n",
              "      <th>890</th>\n",
              "      <td>891</td>\n",
              "      <td>0</td>\n",
              "      <td>3</td>\n",
              "      <td>Dooley, Mr. Patrick</td>\n",
              "      <td>male</td>\n",
              "      <td>32.0</td>\n",
              "      <td>0</td>\n",
              "      <td>0</td>\n",
              "      <td>370376</td>\n",
              "      <td>7.7500</td>\n",
              "      <td>NaN</td>\n",
              "      <td>Q</td>\n",
              "    </tr>\n",
              "  </tbody>\n",
              "</table>\n",
              "<p>891 rows × 12 columns</p>\n",
              "</div>\n",
              "      <button class=\"colab-df-convert\" onclick=\"convertToInteractive('df-e45f109b-e290-4d2c-9c53-e802fc09f8da')\"\n",
              "              title=\"Convert this dataframe to an interactive table.\"\n",
              "              style=\"display:none;\">\n",
              "        \n",
              "  <svg xmlns=\"http://www.w3.org/2000/svg\" height=\"24px\"viewBox=\"0 0 24 24\"\n",
              "       width=\"24px\">\n",
              "    <path d=\"M0 0h24v24H0V0z\" fill=\"none\"/>\n",
              "    <path d=\"M18.56 5.44l.94 2.06.94-2.06 2.06-.94-2.06-.94-.94-2.06-.94 2.06-2.06.94zm-11 1L8.5 8.5l.94-2.06 2.06-.94-2.06-.94L8.5 2.5l-.94 2.06-2.06.94zm10 10l.94 2.06.94-2.06 2.06-.94-2.06-.94-.94-2.06-.94 2.06-2.06.94z\"/><path d=\"M17.41 7.96l-1.37-1.37c-.4-.4-.92-.59-1.43-.59-.52 0-1.04.2-1.43.59L10.3 9.45l-7.72 7.72c-.78.78-.78 2.05 0 2.83L4 21.41c.39.39.9.59 1.41.59.51 0 1.02-.2 1.41-.59l7.78-7.78 2.81-2.81c.8-.78.8-2.07 0-2.86zM5.41 20L4 18.59l7.72-7.72 1.47 1.35L5.41 20z\"/>\n",
              "  </svg>\n",
              "      </button>\n",
              "      \n",
              "  <style>\n",
              "    .colab-df-container {\n",
              "      display:flex;\n",
              "      flex-wrap:wrap;\n",
              "      gap: 12px;\n",
              "    }\n",
              "\n",
              "    .colab-df-convert {\n",
              "      background-color: #E8F0FE;\n",
              "      border: none;\n",
              "      border-radius: 50%;\n",
              "      cursor: pointer;\n",
              "      display: none;\n",
              "      fill: #1967D2;\n",
              "      height: 32px;\n",
              "      padding: 0 0 0 0;\n",
              "      width: 32px;\n",
              "    }\n",
              "\n",
              "    .colab-df-convert:hover {\n",
              "      background-color: #E2EBFA;\n",
              "      box-shadow: 0px 1px 2px rgba(60, 64, 67, 0.3), 0px 1px 3px 1px rgba(60, 64, 67, 0.15);\n",
              "      fill: #174EA6;\n",
              "    }\n",
              "\n",
              "    [theme=dark] .colab-df-convert {\n",
              "      background-color: #3B4455;\n",
              "      fill: #D2E3FC;\n",
              "    }\n",
              "\n",
              "    [theme=dark] .colab-df-convert:hover {\n",
              "      background-color: #434B5C;\n",
              "      box-shadow: 0px 1px 3px 1px rgba(0, 0, 0, 0.15);\n",
              "      filter: drop-shadow(0px 1px 2px rgba(0, 0, 0, 0.3));\n",
              "      fill: #FFFFFF;\n",
              "    }\n",
              "  </style>\n",
              "\n",
              "      <script>\n",
              "        const buttonEl =\n",
              "          document.querySelector('#df-e45f109b-e290-4d2c-9c53-e802fc09f8da button.colab-df-convert');\n",
              "        buttonEl.style.display =\n",
              "          google.colab.kernel.accessAllowed ? 'block' : 'none';\n",
              "\n",
              "        async function convertToInteractive(key) {\n",
              "          const element = document.querySelector('#df-e45f109b-e290-4d2c-9c53-e802fc09f8da');\n",
              "          const dataTable =\n",
              "            await google.colab.kernel.invokeFunction('convertToInteractive',\n",
              "                                                     [key], {});\n",
              "          if (!dataTable) return;\n",
              "\n",
              "          const docLinkHtml = 'Like what you see? Visit the ' +\n",
              "            '<a target=\"_blank\" href=https://colab.research.google.com/notebooks/data_table.ipynb>data table notebook</a>'\n",
              "            + ' to learn more about interactive tables.';\n",
              "          element.innerHTML = '';\n",
              "          dataTable['output_type'] = 'display_data';\n",
              "          await google.colab.output.renderOutput(dataTable, element);\n",
              "          const docLink = document.createElement('div');\n",
              "          docLink.innerHTML = docLinkHtml;\n",
              "          element.appendChild(docLink);\n",
              "        }\n",
              "      </script>\n",
              "    </div>\n",
              "  </div>\n",
              "  "
            ]
          },
          "metadata": {},
          "execution_count": 140
        }
      ]
    },
    {
      "cell_type": "markdown",
      "source": [
        "#### tratando o conjunto de dados"
      ],
      "metadata": {
        "id": "efDTqWS98LjX"
      }
    },
    {
      "cell_type": "code",
      "source": [
        "\n",
        "# dropando as colunas que não são relevantes\n",
        "data_train = data_train.drop(columns=['PassengerId','Name','Ticket','Fare','Cabin','Embarked'])\n",
        "data_train = data_train.dropna() #dropando os NA"
      ],
      "metadata": {
        "id": "ZUKGpAiw76sM"
      },
      "execution_count": null,
      "outputs": []
    },
    {
      "cell_type": "code",
      "source": [
        "# tratando os dados nominais\n",
        "data_train[[\"Sex\"]] = data_train[[\"Sex\"]].replace('male',1).replace('female', 0)\n",
        "data_train"
      ],
      "metadata": {
        "colab": {
          "base_uri": "https://localhost:8080/",
          "height": 424
        },
        "id": "tQsSHGqW9gXl",
        "outputId": "b19ce1fa-beb0-4012-8c5b-272270b74567"
      },
      "execution_count": null,
      "outputs": [
        {
          "output_type": "execute_result",
          "data": {
            "text/plain": [
              "     Survived  Pclass  Sex   Age  SibSp  Parch\n",
              "0           0       3    1  22.0      1      0\n",
              "1           1       1    0  38.0      1      0\n",
              "2           1       3    0  26.0      0      0\n",
              "3           1       1    0  35.0      1      0\n",
              "4           0       3    1  35.0      0      0\n",
              "..        ...     ...  ...   ...    ...    ...\n",
              "885         0       3    0  39.0      0      5\n",
              "886         0       2    1  27.0      0      0\n",
              "887         1       1    0  19.0      0      0\n",
              "889         1       1    1  26.0      0      0\n",
              "890         0       3    1  32.0      0      0\n",
              "\n",
              "[714 rows x 6 columns]"
            ],
            "text/html": [
              "\n",
              "  <div id=\"df-0b81cd73-2c3a-4a80-8f73-08b0ca1ad0e7\">\n",
              "    <div class=\"colab-df-container\">\n",
              "      <div>\n",
              "<style scoped>\n",
              "    .dataframe tbody tr th:only-of-type {\n",
              "        vertical-align: middle;\n",
              "    }\n",
              "\n",
              "    .dataframe tbody tr th {\n",
              "        vertical-align: top;\n",
              "    }\n",
              "\n",
              "    .dataframe thead th {\n",
              "        text-align: right;\n",
              "    }\n",
              "</style>\n",
              "<table border=\"1\" class=\"dataframe\">\n",
              "  <thead>\n",
              "    <tr style=\"text-align: right;\">\n",
              "      <th></th>\n",
              "      <th>Survived</th>\n",
              "      <th>Pclass</th>\n",
              "      <th>Sex</th>\n",
              "      <th>Age</th>\n",
              "      <th>SibSp</th>\n",
              "      <th>Parch</th>\n",
              "    </tr>\n",
              "  </thead>\n",
              "  <tbody>\n",
              "    <tr>\n",
              "      <th>0</th>\n",
              "      <td>0</td>\n",
              "      <td>3</td>\n",
              "      <td>1</td>\n",
              "      <td>22.0</td>\n",
              "      <td>1</td>\n",
              "      <td>0</td>\n",
              "    </tr>\n",
              "    <tr>\n",
              "      <th>1</th>\n",
              "      <td>1</td>\n",
              "      <td>1</td>\n",
              "      <td>0</td>\n",
              "      <td>38.0</td>\n",
              "      <td>1</td>\n",
              "      <td>0</td>\n",
              "    </tr>\n",
              "    <tr>\n",
              "      <th>2</th>\n",
              "      <td>1</td>\n",
              "      <td>3</td>\n",
              "      <td>0</td>\n",
              "      <td>26.0</td>\n",
              "      <td>0</td>\n",
              "      <td>0</td>\n",
              "    </tr>\n",
              "    <tr>\n",
              "      <th>3</th>\n",
              "      <td>1</td>\n",
              "      <td>1</td>\n",
              "      <td>0</td>\n",
              "      <td>35.0</td>\n",
              "      <td>1</td>\n",
              "      <td>0</td>\n",
              "    </tr>\n",
              "    <tr>\n",
              "      <th>4</th>\n",
              "      <td>0</td>\n",
              "      <td>3</td>\n",
              "      <td>1</td>\n",
              "      <td>35.0</td>\n",
              "      <td>0</td>\n",
              "      <td>0</td>\n",
              "    </tr>\n",
              "    <tr>\n",
              "      <th>...</th>\n",
              "      <td>...</td>\n",
              "      <td>...</td>\n",
              "      <td>...</td>\n",
              "      <td>...</td>\n",
              "      <td>...</td>\n",
              "      <td>...</td>\n",
              "    </tr>\n",
              "    <tr>\n",
              "      <th>885</th>\n",
              "      <td>0</td>\n",
              "      <td>3</td>\n",
              "      <td>0</td>\n",
              "      <td>39.0</td>\n",
              "      <td>0</td>\n",
              "      <td>5</td>\n",
              "    </tr>\n",
              "    <tr>\n",
              "      <th>886</th>\n",
              "      <td>0</td>\n",
              "      <td>2</td>\n",
              "      <td>1</td>\n",
              "      <td>27.0</td>\n",
              "      <td>0</td>\n",
              "      <td>0</td>\n",
              "    </tr>\n",
              "    <tr>\n",
              "      <th>887</th>\n",
              "      <td>1</td>\n",
              "      <td>1</td>\n",
              "      <td>0</td>\n",
              "      <td>19.0</td>\n",
              "      <td>0</td>\n",
              "      <td>0</td>\n",
              "    </tr>\n",
              "    <tr>\n",
              "      <th>889</th>\n",
              "      <td>1</td>\n",
              "      <td>1</td>\n",
              "      <td>1</td>\n",
              "      <td>26.0</td>\n",
              "      <td>0</td>\n",
              "      <td>0</td>\n",
              "    </tr>\n",
              "    <tr>\n",
              "      <th>890</th>\n",
              "      <td>0</td>\n",
              "      <td>3</td>\n",
              "      <td>1</td>\n",
              "      <td>32.0</td>\n",
              "      <td>0</td>\n",
              "      <td>0</td>\n",
              "    </tr>\n",
              "  </tbody>\n",
              "</table>\n",
              "<p>714 rows × 6 columns</p>\n",
              "</div>\n",
              "      <button class=\"colab-df-convert\" onclick=\"convertToInteractive('df-0b81cd73-2c3a-4a80-8f73-08b0ca1ad0e7')\"\n",
              "              title=\"Convert this dataframe to an interactive table.\"\n",
              "              style=\"display:none;\">\n",
              "        \n",
              "  <svg xmlns=\"http://www.w3.org/2000/svg\" height=\"24px\"viewBox=\"0 0 24 24\"\n",
              "       width=\"24px\">\n",
              "    <path d=\"M0 0h24v24H0V0z\" fill=\"none\"/>\n",
              "    <path d=\"M18.56 5.44l.94 2.06.94-2.06 2.06-.94-2.06-.94-.94-2.06-.94 2.06-2.06.94zm-11 1L8.5 8.5l.94-2.06 2.06-.94-2.06-.94L8.5 2.5l-.94 2.06-2.06.94zm10 10l.94 2.06.94-2.06 2.06-.94-2.06-.94-.94-2.06-.94 2.06-2.06.94z\"/><path d=\"M17.41 7.96l-1.37-1.37c-.4-.4-.92-.59-1.43-.59-.52 0-1.04.2-1.43.59L10.3 9.45l-7.72 7.72c-.78.78-.78 2.05 0 2.83L4 21.41c.39.39.9.59 1.41.59.51 0 1.02-.2 1.41-.59l7.78-7.78 2.81-2.81c.8-.78.8-2.07 0-2.86zM5.41 20L4 18.59l7.72-7.72 1.47 1.35L5.41 20z\"/>\n",
              "  </svg>\n",
              "      </button>\n",
              "      \n",
              "  <style>\n",
              "    .colab-df-container {\n",
              "      display:flex;\n",
              "      flex-wrap:wrap;\n",
              "      gap: 12px;\n",
              "    }\n",
              "\n",
              "    .colab-df-convert {\n",
              "      background-color: #E8F0FE;\n",
              "      border: none;\n",
              "      border-radius: 50%;\n",
              "      cursor: pointer;\n",
              "      display: none;\n",
              "      fill: #1967D2;\n",
              "      height: 32px;\n",
              "      padding: 0 0 0 0;\n",
              "      width: 32px;\n",
              "    }\n",
              "\n",
              "    .colab-df-convert:hover {\n",
              "      background-color: #E2EBFA;\n",
              "      box-shadow: 0px 1px 2px rgba(60, 64, 67, 0.3), 0px 1px 3px 1px rgba(60, 64, 67, 0.15);\n",
              "      fill: #174EA6;\n",
              "    }\n",
              "\n",
              "    [theme=dark] .colab-df-convert {\n",
              "      background-color: #3B4455;\n",
              "      fill: #D2E3FC;\n",
              "    }\n",
              "\n",
              "    [theme=dark] .colab-df-convert:hover {\n",
              "      background-color: #434B5C;\n",
              "      box-shadow: 0px 1px 3px 1px rgba(0, 0, 0, 0.15);\n",
              "      filter: drop-shadow(0px 1px 2px rgba(0, 0, 0, 0.3));\n",
              "      fill: #FFFFFF;\n",
              "    }\n",
              "  </style>\n",
              "\n",
              "      <script>\n",
              "        const buttonEl =\n",
              "          document.querySelector('#df-0b81cd73-2c3a-4a80-8f73-08b0ca1ad0e7 button.colab-df-convert');\n",
              "        buttonEl.style.display =\n",
              "          google.colab.kernel.accessAllowed ? 'block' : 'none';\n",
              "\n",
              "        async function convertToInteractive(key) {\n",
              "          const element = document.querySelector('#df-0b81cd73-2c3a-4a80-8f73-08b0ca1ad0e7');\n",
              "          const dataTable =\n",
              "            await google.colab.kernel.invokeFunction('convertToInteractive',\n",
              "                                                     [key], {});\n",
              "          if (!dataTable) return;\n",
              "\n",
              "          const docLinkHtml = 'Like what you see? Visit the ' +\n",
              "            '<a target=\"_blank\" href=https://colab.research.google.com/notebooks/data_table.ipynb>data table notebook</a>'\n",
              "            + ' to learn more about interactive tables.';\n",
              "          element.innerHTML = '';\n",
              "          dataTable['output_type'] = 'display_data';\n",
              "          await google.colab.output.renderOutput(dataTable, element);\n",
              "          const docLink = document.createElement('div');\n",
              "          docLink.innerHTML = docLinkHtml;\n",
              "          element.appendChild(docLink);\n",
              "        }\n",
              "      </script>\n",
              "    </div>\n",
              "  </div>\n",
              "  "
            ]
          },
          "metadata": {},
          "execution_count": 168
        }
      ]
    },
    {
      "cell_type": "code",
      "source": [
        "sns.heatmap(data_train.corr())"
      ],
      "metadata": {
        "colab": {
          "base_uri": "https://localhost:8080/",
          "height": 286
        },
        "id": "8q0TObis-hKO",
        "outputId": "bcc2e104-95c8-4270-df22-943c9b47fc67"
      },
      "execution_count": null,
      "outputs": [
        {
          "output_type": "execute_result",
          "data": {
            "text/plain": [
              "<matplotlib.axes._subplots.AxesSubplot at 0x7f0119401110>"
            ]
          },
          "metadata": {},
          "execution_count": 143
        },
        {
          "output_type": "display_data",
          "data": {
            "text/plain": [
              "<Figure size 432x288 with 2 Axes>"
            ],
            "image/png": "[encoded data removed]"
          },
          "metadata": {
            "needs_background": "light"
          }
        }
      ]
    },
    {
      "cell_type": "code",
      "source": [
        "X = data_train[['Pclass',\t'Sex',\t'Age',\t'SibSp',\t'Parch']].values\n",
        "y = data_train[['Survived']]\n",
        "\n",
        "\n",
        "mean = X.mean(axis=0)\n",
        "X -= mean\n",
        "std = X.std(axis=0)\n",
        "X /= std\n",
        "\n",
        "X_train, X_test, y_train, y_test = train_test_split(X,y,test_size=0.3)"
      ],
      "metadata": {
        "id": "rU235d2uAgam"
      },
      "execution_count": null,
      "outputs": []
    },
    {
      "cell_type": "code",
      "source": [
        "X_train.shape, y_train.shape"
      ],
      "metadata": {
        "colab": {
          "base_uri": "https://localhost:8080/"
        },
        "id": "sH5zLPk_IDph",
        "outputId": "61d1c0f3-9f9c-4801-e94a-76dcb2c6d984"
      },
      "execution_count": null,
      "outputs": [
        {
          "output_type": "execute_result",
          "data": {
            "text/plain": [
              "((499, 5), (499,))"
            ]
          },
          "metadata": {},
          "execution_count": 192
        }
      ]
    },
    {
      "cell_type": "markdown",
      "source": [
        "## Arvore de Decisão"
      ],
      "metadata": {
        "id": "t2WwrTe3Gn5z"
      }
    },
    {
      "cell_type": "code",
      "source": [
        "clf = DecisionTreeClassifier(max_depth=2)\n",
        "\n",
        "scaler = MinMaxScaler()\n",
        "X_train = scaler.fit_transform(X_train)\n",
        "X_test = scaler.fit_transform(X_test)"
      ],
      "metadata": {
        "id": "62mMUMeHBqyS"
      },
      "execution_count": null,
      "outputs": []
    },
    {
      "cell_type": "code",
      "source": [
        "clf.fit(X_train,y_train)"
      ],
      "metadata": {
        "colab": {
          "base_uri": "https://localhost:8080/"
        },
        "id": "qyruOLSPCJfk",
        "outputId": "04dd51d1-528c-4332-b903-d16b32d1a91a"
      },
      "execution_count": null,
      "outputs": [
        {
          "output_type": "execute_result",
          "data": {
            "text/plain": [
              "DecisionTreeClassifier(max_depth=2)"
            ]
          },
          "metadata": {},
          "execution_count": 146
        }
      ]
    },
    {
      "cell_type": "code",
      "source": [
        "print('Ein: %0.4f' % (1 - accuracy_score(y_train, clf.predict(X_train))))\n",
        "print('Eout: %0.4f' % (1 - accuracy_score(y_test, clf.predict(X_test))))\n",
        "print(classification_report(y_test, clf.predict(X_test)))"
      ],
      "metadata": {
        "colab": {
          "base_uri": "https://localhost:8080/"
        },
        "id": "eAwuJwBiCX_5",
        "outputId": "26f2a2e7-756a-40d6-b914-0cb5f6aa2ea4"
      },
      "execution_count": null,
      "outputs": [
        {
          "output_type": "stream",
          "name": "stdout",
          "text": [
            "Ein: 0.2024\n",
            "Eout: 0.2000\n",
            "              precision    recall  f1-score   support\n",
            "\n",
            "           0       0.79      0.94      0.86       139\n",
            "           1       0.84      0.54      0.66        76\n",
            "\n",
            "    accuracy                           0.80       215\n",
            "   macro avg       0.81      0.74      0.76       215\n",
            "weighted avg       0.81      0.80      0.79       215\n",
            "\n"
          ]
        }
      ]
    },
    {
      "cell_type": "code",
      "source": [
        "from matplotlib import pyplot as plt\n",
        "\n",
        "Features = ['Pclass',\t'Sex',\t'Age',\t'SibSp',\t'Parch']\n",
        "Outcome = ['Survived']\n",
        "\n",
        "for feature, importance in zip(Features, clf.feature_importances_):\n",
        "    print(\"{}:{}\".format(feature, importance))\n",
        "\n",
        "plt.bar(Features, clf.feature_importances_)"
      ],
      "metadata": {
        "colab": {
          "base_uri": "https://localhost:8080/",
          "height": 369
        },
        "id": "KD4dzHTSCYN-",
        "outputId": "e588dc6d-6b2b-45ea-8ee7-05f5b134ff86"
      },
      "execution_count": null,
      "outputs": [
        {
          "output_type": "stream",
          "name": "stdout",
          "text": [
            "Pclass:0.20773889758068576\n",
            "Sex:0.6948738729319532\n",
            "Age:0.097387229487361\n",
            "SibSp:0.0\n",
            "Parch:0.0\n"
          ]
        },
        {
          "output_type": "execute_result",
          "data": {
            "text/plain": [
              "<BarContainer object of 5 artists>"
            ]
          },
          "metadata": {},
          "execution_count": 148
        },
        {
          "output_type": "display_data",
          "data": {
            "text/plain": [
              "<Figure size 432x288 with 1 Axes>"
            ],
            "image/png": "[encoded data removed]"
          },
          "metadata": {
            "needs_background": "light"
          }
        }
      ]
    },
    {
      "cell_type": "code",
      "source": [
        "\n",
        "# feature labels\n",
        "features_label = data_train[['Pclass',\t'Sex',\t'Age',\t'SibSp',\t'Parch']].columns\n",
        "\n",
        "# class label\n",
        "class_label = ['0','1']\n",
        "\n",
        "plt.figure(figsize=(20,20))\n",
        "plot_tree(\n",
        "    clf, \n",
        "    feature_names = features_label,\n",
        "    class_names = class_label, \n",
        "    filled=True, \n",
        "    proportion = True,\n",
        "    fontsize=6, \n",
        "    rounded = True)\n",
        "\n",
        "plt.savefig('filename.png')"
      ],
      "metadata": {
        "colab": {
          "base_uri": "https://localhost:8080/",
          "height": 1000
        },
        "id": "mIGCh9M9Ctjb",
        "outputId": "b6fd5298-2f8e-4e76-bc85-046ab4f88c87"
      },
      "execution_count": null,
      "outputs": [
        {
          "output_type": "display_data",
          "data": {
            "text/plain": [
              "<Figure size 1440x1440 with 1 Axes>"
            ],
            "image/png": "[encoded data removed]"
          },
          "metadata": {
            "needs_background": "light"
          }
        }
      ]
    },
    {
      "cell_type": "code",
      "source": [
        "\n",
        "dot_data = export_graphviz( \n",
        "         clf, \n",
        "         out_file = None,\n",
        "         feature_names = features_label,\n",
        "         class_names = class_label,  \n",
        "         filled = True, \n",
        "         rounded = True,\n",
        "         proportion = True,\n",
        "         node_ids = True,\n",
        "         rotate  =False,\n",
        "         label = 'all',\n",
        "         special_characters = True\n",
        "        )  \n",
        "graph = graphviz.Source(dot_data)  \n",
        "graph"
      ],
      "metadata": {
        "colab": {
          "base_uri": "https://localhost:8080/",
          "height": 500
        },
        "id": "ITDL-60BDhts",
        "outputId": "a19023a0-9925-4cc7-a349-59a567e9b79d"
      },
      "execution_count": null,
      "outputs": [
        {
          "output_type": "execute_result",
          "data": {
            "text/plain": [
              "<graphviz.files.Source at 0x7f0118f88d10>"
            ],
            "image/svg+xml": "<?xml version=\"1.0\" encoding=\"UTF-8\" standalone=\"no\"?>\n<!DOCTYPE svg PUBLIC \"-//W3C//DTD SVG 1.1//EN\"\n \"http://www.w3.org/Graphics/SVG/1.1/DTD/svg11.dtd\">\n<!-- Generated by graphviz version 2.40.1 (20161225.0304)\n -->\n<!-- Title: Tree Pages: 1 -->\n<svg width=\"670pt\" height=\"359pt\"\n viewBox=\"0.00 0.00 670.00 359.00\" xmlns=\"http://www.w3.org/2000/svg\" xmlns:xlink=\"http://www.w3.org/1999/xlink\">\n<g id=\"graph0\" class=\"graph\" transform=\"scale(1 1) rotate(0) translate(4 355)\">\n<title>Tree</title>\n<polygon fill=\"#ffffff\" stroke=\"transparent\" points=\"-4,4 -4,-355 666,-355 666,4 -4,4\"/>\n<!-- 0 -->\n<g id=\"node1\" class=\"node\">\n<title>0</title>\n<path fill=\"#f9e0ce\" stroke=\"#000000\" d=\"M401,-351C401,-351 269,-351 269,-351 263,-351 257,-345 257,-339 257,-339 257,-265 257,-265 257,-259 263,-253 269,-253 269,-253 401,-253 401,-253 407,-253 413,-259 413,-265 413,-265 413,-339 413,-339 413,-345 407,-351 401,-351\"/>\n<text text-anchor=\"start\" x=\"308\" y=\"-335.8\" font-family=\"Helvetica,sans-Serif\" font-size=\"14.00\" fill=\"#000000\">node #0</text>\n<text text-anchor=\"start\" x=\"304.5\" y=\"-320.8\" font-family=\"Helvetica,sans-Serif\" font-size=\"14.00\" fill=\"#000000\">Sex ≤ 0.5</text>\n<text text-anchor=\"start\" x=\"301.5\" y=\"-305.8\" font-family=\"Helvetica,sans-Serif\" font-size=\"14.00\" fill=\"#000000\">gini = 0.49</text>\n<text text-anchor=\"start\" x=\"274.5\" y=\"-290.8\" font-family=\"Helvetica,sans-Serif\" font-size=\"14.00\" fill=\"#000000\">samples = 100.0%</text>\n<text text-anchor=\"start\" x=\"265\" y=\"-275.8\" font-family=\"Helvetica,sans-Serif\" font-size=\"14.00\" fill=\"#000000\">value = [0.571, 0.429]</text>\n<text text-anchor=\"start\" x=\"306\" y=\"-260.8\" font-family=\"Helvetica,sans-Serif\" font-size=\"14.00\" fill=\"#000000\">class = 0</text>\n</g>\n<!-- 1 -->\n<g id=\"node2\" class=\"node\">\n<title>1</title>\n<path fill=\"#78bced\" stroke=\"#000000\" d=\"M318,-217C318,-217 186,-217 186,-217 180,-217 174,-211 174,-205 174,-205 174,-131 174,-131 174,-125 180,-119 186,-119 186,-119 318,-119 318,-119 324,-119 330,-125 330,-131 330,-131 330,-205 330,-205 330,-211 324,-217 318,-217\"/>\n<text text-anchor=\"start\" x=\"225\" y=\"-201.8\" font-family=\"Helvetica,sans-Serif\" font-size=\"14.00\" fill=\"#000000\">node #1</text>\n<text text-anchor=\"start\" x=\"208\" y=\"-186.8\" font-family=\"Helvetica,sans-Serif\" font-size=\"14.00\" fill=\"#000000\">Pclass ≤ 0.75</text>\n<text text-anchor=\"start\" x=\"214\" y=\"-171.8\" font-family=\"Helvetica,sans-Serif\" font-size=\"14.00\" fill=\"#000000\">gini = 0.367</text>\n<text text-anchor=\"start\" x=\"196\" y=\"-156.8\" font-family=\"Helvetica,sans-Serif\" font-size=\"14.00\" fill=\"#000000\">samples = 38.9%</text>\n<text text-anchor=\"start\" x=\"182\" y=\"-141.8\" font-family=\"Helvetica,sans-Serif\" font-size=\"14.00\" fill=\"#000000\">value = [0.242, 0.758]</text>\n<text text-anchor=\"start\" x=\"223\" y=\"-126.8\" font-family=\"Helvetica,sans-Serif\" font-size=\"14.00\" fill=\"#000000\">class = 1</text>\n</g>\n<!-- 0&#45;&gt;1 -->\n<g id=\"edge1\" class=\"edge\">\n<title>0&#45;&gt;1</title>\n<path fill=\"none\" stroke=\"#000000\" d=\"M304.5652,-252.8642C299.0957,-244.034 293.3495,-234.7571 287.7461,-225.7106\"/>\n<polygon fill=\"#000000\" stroke=\"#000000\" points=\"290.6724,-223.7881 282.4312,-217.1298 284.7215,-227.4742 290.6724,-223.7881\"/>\n<text text-anchor=\"middle\" x=\"276.7114\" y=\"-237.7667\" font-family=\"Helvetica,sans-Serif\" font-size=\"14.00\" fill=\"#000000\">True</text>\n</g>\n<!-- 4 -->\n<g id=\"node5\" class=\"node\">\n<title>4</title>\n<path fill=\"#eca471\" stroke=\"#000000\" d=\"M476,-217C476,-217 360,-217 360,-217 354,-217 348,-211 348,-205 348,-205 348,-131 348,-131 348,-125 354,-119 360,-119 360,-119 476,-119 476,-119 482,-119 488,-125 488,-131 488,-131 488,-205 488,-205 488,-211 482,-217 476,-217\"/>\n<text text-anchor=\"start\" x=\"391\" y=\"-201.8\" font-family=\"Helvetica,sans-Serif\" font-size=\"14.00\" fill=\"#000000\">node #4</text>\n<text text-anchor=\"start\" x=\"378.5\" y=\"-186.8\" font-family=\"Helvetica,sans-Serif\" font-size=\"14.00\" fill=\"#000000\">Age ≤ 0.158</text>\n<text text-anchor=\"start\" x=\"380\" y=\"-171.8\" font-family=\"Helvetica,sans-Serif\" font-size=\"14.00\" fill=\"#000000\">gini = 0.343</text>\n<text text-anchor=\"start\" x=\"362\" y=\"-156.8\" font-family=\"Helvetica,sans-Serif\" font-size=\"14.00\" fill=\"#000000\">samples = 61.1%</text>\n<text text-anchor=\"start\" x=\"356\" y=\"-141.8\" font-family=\"Helvetica,sans-Serif\" font-size=\"14.00\" fill=\"#000000\">value = [0.78, 0.22]</text>\n<text text-anchor=\"start\" x=\"389\" y=\"-126.8\" font-family=\"Helvetica,sans-Serif\" font-size=\"14.00\" fill=\"#000000\">class = 0</text>\n</g>\n<!-- 0&#45;&gt;4 -->\n<g id=\"edge4\" class=\"edge\">\n<title>0&#45;&gt;4</title>\n<path fill=\"none\" stroke=\"#000000\" d=\"M365.4348,-252.8642C370.9043,-244.034 376.6505,-234.7571 382.2539,-225.7106\"/>\n<polygon fill=\"#000000\" stroke=\"#000000\" points=\"385.2785,-227.4742 387.5688,-217.1298 379.3276,-223.7881 385.2785,-227.4742\"/>\n<text text-anchor=\"middle\" x=\"393.2886\" y=\"-237.7667\" font-family=\"Helvetica,sans-Serif\" font-size=\"14.00\" fill=\"#000000\">False</text>\n</g>\n<!-- 2 -->\n<g id=\"node3\" class=\"node\">\n<title>2</title>\n<path fill=\"#47a4e7\" stroke=\"#000000\" d=\"M144,-83C144,-83 12,-83 12,-83 6,-83 0,-77 0,-71 0,-71 0,-12 0,-12 0,-6 6,0 12,0 12,0 144,0 144,0 150,0 156,-6 156,-12 156,-12 156,-71 156,-71 156,-77 150,-83 144,-83\"/>\n<text text-anchor=\"start\" x=\"51\" y=\"-67.8\" font-family=\"Helvetica,sans-Serif\" font-size=\"14.00\" fill=\"#000000\">node #2</text>\n<text text-anchor=\"start\" x=\"40\" y=\"-52.8\" font-family=\"Helvetica,sans-Serif\" font-size=\"14.00\" fill=\"#000000\">gini = 0.123</text>\n<text text-anchor=\"start\" x=\"22\" y=\"-37.8\" font-family=\"Helvetica,sans-Serif\" font-size=\"14.00\" fill=\"#000000\">samples = 24.4%</text>\n<text text-anchor=\"start\" x=\"8\" y=\"-22.8\" font-family=\"Helvetica,sans-Serif\" font-size=\"14.00\" fill=\"#000000\">value = [0.066, 0.934]</text>\n<text text-anchor=\"start\" x=\"49\" y=\"-7.8\" font-family=\"Helvetica,sans-Serif\" font-size=\"14.00\" fill=\"#000000\">class = 1</text>\n</g>\n<!-- 1&#45;&gt;2 -->\n<g id=\"edge2\" class=\"edge\">\n<title>1&#45;&gt;2</title>\n<path fill=\"none\" stroke=\"#000000\" d=\"M184.2288,-118.7296C170.7951,-108.9631 156.7176,-98.7286 143.3659,-89.0217\"/>\n<polygon fill=\"#000000\" stroke=\"#000000\" points=\"145.3051,-86.1044 135.1586,-83.055 141.1889,-91.7663 145.3051,-86.1044\"/>\n</g>\n<!-- 3 -->\n<g id=\"node4\" class=\"node\">\n<title>3</title>\n<path fill=\"#fbece1\" stroke=\"#000000\" d=\"M318,-83C318,-83 186,-83 186,-83 180,-83 174,-77 174,-71 174,-71 174,-12 174,-12 174,-6 180,0 186,0 186,0 318,0 318,0 324,0 330,-6 330,-12 330,-12 330,-71 330,-71 330,-77 324,-83 318,-83\"/>\n<text text-anchor=\"start\" x=\"225\" y=\"-67.8\" font-family=\"Helvetica,sans-Serif\" font-size=\"14.00\" fill=\"#000000\">node #3</text>\n<text text-anchor=\"start\" x=\"214\" y=\"-52.8\" font-family=\"Helvetica,sans-Serif\" font-size=\"14.00\" fill=\"#000000\">gini = 0.497</text>\n<text text-anchor=\"start\" x=\"196\" y=\"-37.8\" font-family=\"Helvetica,sans-Serif\" font-size=\"14.00\" fill=\"#000000\">samples = 14.4%</text>\n<text text-anchor=\"start\" x=\"182\" y=\"-22.8\" font-family=\"Helvetica,sans-Serif\" font-size=\"14.00\" fill=\"#000000\">value = [0.542, 0.458]</text>\n<text text-anchor=\"start\" x=\"223\" y=\"-7.8\" font-family=\"Helvetica,sans-Serif\" font-size=\"14.00\" fill=\"#000000\">class = 0</text>\n</g>\n<!-- 1&#45;&gt;3 -->\n<g id=\"edge3\" class=\"edge\">\n<title>1&#45;&gt;3</title>\n<path fill=\"none\" stroke=\"#000000\" d=\"M252,-118.7296C252,-110.3452 252,-101.6158 252,-93.1714\"/>\n<polygon fill=\"#000000\" stroke=\"#000000\" points=\"255.5001,-93.0549 252,-83.055 248.5001,-93.055 255.5001,-93.0549\"/>\n</g>\n<!-- 5 -->\n<g id=\"node6\" class=\"node\">\n<title>5</title>\n<path fill=\"#a8d4f4\" stroke=\"#000000\" d=\"M476,-83C476,-83 360,-83 360,-83 354,-83 348,-77 348,-71 348,-71 348,-12 348,-12 348,-6 354,0 360,0 360,0 476,0 476,0 482,0 488,-6 488,-12 488,-12 488,-71 488,-71 488,-77 482,-83 476,-83\"/>\n<text text-anchor=\"start\" x=\"391\" y=\"-67.8\" font-family=\"Helvetica,sans-Serif\" font-size=\"14.00\" fill=\"#000000\">node #5</text>\n<text text-anchor=\"start\" x=\"380\" y=\"-52.8\" font-family=\"Helvetica,sans-Serif\" font-size=\"14.00\" fill=\"#000000\">gini = 0.461</text>\n<text text-anchor=\"start\" x=\"366\" y=\"-37.8\" font-family=\"Helvetica,sans-Serif\" font-size=\"14.00\" fill=\"#000000\">samples = 5.0%</text>\n<text text-anchor=\"start\" x=\"356\" y=\"-22.8\" font-family=\"Helvetica,sans-Serif\" font-size=\"14.00\" fill=\"#000000\">value = [0.36, 0.64]</text>\n<text text-anchor=\"start\" x=\"389\" y=\"-7.8\" font-family=\"Helvetica,sans-Serif\" font-size=\"14.00\" fill=\"#000000\">class = 1</text>\n</g>\n<!-- 4&#45;&gt;5 -->\n<g id=\"edge5\" class=\"edge\">\n<title>4&#45;&gt;5</title>\n<path fill=\"none\" stroke=\"#000000\" d=\"M418,-118.7296C418,-110.3452 418,-101.6158 418,-93.1714\"/>\n<polygon fill=\"#000000\" stroke=\"#000000\" points=\"421.5001,-93.0549 418,-83.055 414.5001,-93.055 421.5001,-93.0549\"/>\n</g>\n<!-- 6 -->\n<g id=\"node7\" class=\"node\">\n<title>6</title>\n<path fill=\"#eb9d65\" stroke=\"#000000\" d=\"M650,-83C650,-83 518,-83 518,-83 512,-83 506,-77 506,-71 506,-71 506,-12 506,-12 506,-6 512,0 518,0 518,0 650,0 650,0 656,0 662,-6 662,-12 662,-12 662,-71 662,-71 662,-77 656,-83 650,-83\"/>\n<text text-anchor=\"start\" x=\"557\" y=\"-67.8\" font-family=\"Helvetica,sans-Serif\" font-size=\"14.00\" fill=\"#000000\">node #6</text>\n<text text-anchor=\"start\" x=\"546\" y=\"-52.8\" font-family=\"Helvetica,sans-Serif\" font-size=\"14.00\" fill=\"#000000\">gini = 0.298</text>\n<text text-anchor=\"start\" x=\"528\" y=\"-37.8\" font-family=\"Helvetica,sans-Serif\" font-size=\"14.00\" fill=\"#000000\">samples = 56.1%</text>\n<text text-anchor=\"start\" x=\"514\" y=\"-22.8\" font-family=\"Helvetica,sans-Serif\" font-size=\"14.00\" fill=\"#000000\">value = [0.818, 0.182]</text>\n<text text-anchor=\"start\" x=\"555\" y=\"-7.8\" font-family=\"Helvetica,sans-Serif\" font-size=\"14.00\" fill=\"#000000\">class = 0</text>\n</g>\n<!-- 4&#45;&gt;6 -->\n<g id=\"edge6\" class=\"edge\">\n<title>4&#45;&gt;6</title>\n<path fill=\"none\" stroke=\"#000000\" d=\"M482.6553,-118.7296C495.3504,-109.0553 508.6483,-98.9216 521.2788,-89.2966\"/>\n<polygon fill=\"#000000\" stroke=\"#000000\" points=\"523.637,-91.9 529.4694,-83.055 519.3942,-86.3323 523.637,-91.9\"/>\n</g>\n</g>\n</svg>\n"
          },
          "metadata": {},
          "execution_count": 184
        }
      ]
    },
    {
      "cell_type": "code",
      "source": [
        "def plot_tree(crit, split, depth, min_samples_split, min_samples_leaf=0.2):\n",
        "    estimator = DecisionTreeClassifier(\n",
        "           random_state = 0 \n",
        "          ,criterion = crit\n",
        "          ,splitter = split\n",
        "          ,max_depth = depth\n",
        "          ,min_samples_split=min_samples_split\n",
        "          ,min_samples_leaf=min_samples_leaf\n",
        "    )\n",
        "    estimator.fit(X_train, y_train)\n",
        "\n",
        "    print('Ein: %0.4f' % (1 - accuracy_score(y_train, estimator.predict(X_train))))\n",
        "    print('Eout: %0.4f' % (1 - accuracy_score(y_test, estimator.predict(X_test))))\n",
        "\n",
        "    print(classification_report(y_test, estimator.predict(X_test)))\n",
        "    graph = Source(export_graphviz(estimator\n",
        "      , out_file=None\n",
        "      , feature_names=features_label\n",
        "      , class_names=class_label\n",
        "      , impurity=True\n",
        "      , filled = True))\n",
        "    \n",
        "    display(SVG(graph.pipe(format='svg')))\n",
        "    return estimator\n",
        "\n",
        "inter=interactive(plot_tree \n",
        "   , crit = [\"gini\", \"entropy\"]\n",
        "   , split = [\"best\", \"random\"]\n",
        "   , depth=[1,2,3,4,5,10,20,30]\n",
        "   , min_samples_split=(1,8)\n",
        "   , min_samples_leaf=(1,20))\n",
        "\n",
        "display(inter)"
      ],
      "metadata": {
        "colab": {
          "base_uri": "https://localhost:8080/",
          "height": 950,
          "referenced_widgets": [
            "2ef2335f7d364da1b5a71c3604326fcf",
            "f60f572362b2431bb373e6a59bb14ba8",
            "56a81954026443439f2998a0775c2439",
            "de5269f44eb64a7a90c0e7f3fd005c58",
            "35344089cf914926bcefdccad0c89f7b",
            "3ae3f9c387f542fcb6dabdd28b06be11",
            "6839f2d7f08b4c3fbd470c53b309824f",
            "15ffd0c3190541c5835bdbcf476a0335",
            "6af0fdc79b6b421d962232ae1881d266",
            "e23bb66ac4fc4a2faaaeb720f0918090",
            "6d44ff2385de4e7887bf3c80cc2ac61c",
            "ac1004a5449b4b2dad9fa8cafc1caafd",
            "72b3247a822b427a8444c6d137e4835e",
            "0a160c2f995d4100bcb9bd08eafe2cdb",
            "486c872b681342dfab8b62fd2d9dc4b6",
            "62de4c73b17e41cabd3f75949eb133f3",
            "18bd64ab25eb4f6c81516040989b788a",
            "abd97c8d216a4978b8dfa090144f34fb",
            "34676e038c35498d9c8da48c9eb3c104"
          ]
        },
        "id": "AUlCN3InEt4b",
        "outputId": "5cf92dd7-54ea-48cb-ee22-9a59ad439abc"
      },
      "execution_count": null,
      "outputs": [
        {
          "output_type": "display_data",
          "data": {
            "text/plain": [
              "interactive(children=(Dropdown(description='crit', options=('gini', 'entropy'), value='gini'), Dropdown(descri…"
            ],
            "application/vnd.jupyter.widget-view+json": {
              "version_major": 2,
              "version_minor": 0,
              "model_id": "2ef2335f7d364da1b5a71c3604326fcf"
            }
          },
          "metadata": {}
        }
      ]
    },
    {
      "cell_type": "markdown",
      "source": [
        "![image.png](data:image/png;base64,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)"
      ],
      "metadata": {
        "id": "5XTCHPFtGisQ"
      }
    },
    {
      "cell_type": "markdown",
      "source": [
        "## Rede Neural Keras"
      ],
      "metadata": {
        "id": "lV8Pk-SfH6VS"
      }
    },
    {
      "cell_type": "code",
      "source": [
        "model = tf.keras.models.Sequential()\n",
        "model.add(tf.keras.layers.Input(shape=(5)))\n",
        "model.add(tf.keras.layers.Dense(15, activation='relu'))\n",
        "model.add(tf.keras.layers.Dense(15, activation='relu'))\n",
        "model.add(tf.keras.layers.Dense(1, activation='sigmoid'))\n",
        "model.compile(loss='mean_squared_error', metrics='mean_squared_error', optimizer='sgd')\n",
        "\n",
        "\n",
        "model.summary()\n"
      ],
      "metadata": {
        "colab": {
          "base_uri": "https://localhost:8080/"
        },
        "id": "8IXkHyzDH93u",
        "outputId": "dfe0f642-8c98-4a97-d14a-32e9e2834e0f"
      },
      "execution_count": null,
      "outputs": [
        {
          "output_type": "stream",
          "name": "stdout",
          "text": [
            "Model: \"sequential_13\"\n",
            "_________________________________________________________________\n",
            " Layer (type)                Output Shape              Param #   \n",
            "=================================================================\n",
            " dense_27 (Dense)            (None, 15)                90        \n",
            "                                                                 \n",
            " dense_28 (Dense)            (None, 15)                240       \n",
            "                                                                 \n",
            " dense_29 (Dense)            (None, 1)                 16        \n",
            "                                                                 \n",
            "=================================================================\n",
            "Total params: 346\n",
            "Trainable params: 346\n",
            "Non-trainable params: 0\n",
            "_________________________________________________________________\n"
          ]
        }
      ]
    },
    {
      "cell_type": "code",
      "source": [
        "history = model.fit(X_train, y_train, epochs=100, batch_size=70, validation_data=(X_test, y_test))"
      ],
      "metadata": {
        "colab": {
          "base_uri": "https://localhost:8080/"
        },
        "id": "tU3-bqA6KCNu",
        "outputId": "823eef4b-bad3-463f-9d35-a76a991f561b"
      },
      "execution_count": null,
      "outputs": [
        {
          "output_type": "stream",
          "name": "stdout",
          "text": [
            "Epoch 1/100\n",
            "8/8 [==============================] - 1s 25ms/step - loss: 0.2587 - mean_squared_error: 0.2587 - val_loss: 0.2653 - val_mean_squared_error: 0.2653\n",
            "Epoch 2/100\n",
            "8/8 [==============================] - 0s 9ms/step - loss: 0.2572 - mean_squared_error: 0.2572 - val_loss: 0.2635 - val_mean_squared_error: 0.2635\n",
            "Epoch 3/100\n",
            "8/8 [==============================] - 0s 6ms/step - loss: 0.2556 - mean_squared_error: 0.2556 - val_loss: 0.2619 - val_mean_squared_error: 0.2619\n",
            "Epoch 4/100\n",
            "8/8 [==============================] - 0s 6ms/step - loss: 0.2542 - mean_squared_error: 0.2542 - val_loss: 0.2604 - val_mean_squared_error: 0.2604\n",
            "Epoch 5/100\n",
            "8/8 [==============================] - 0s 5ms/step - loss: 0.2528 - mean_squared_error: 0.2528 - val_loss: 0.2588 - val_mean_squared_error: 0.2588\n",
            "Epoch 6/100\n",
            "8/8 [==============================] - 0s 6ms/step - loss: 0.2514 - mean_squared_error: 0.2514 - val_loss: 0.2573 - val_mean_squared_error: 0.2573\n",
            "Epoch 7/100\n",
            "8/8 [==============================] - 0s 6ms/step - loss: 0.2500 - mean_squared_error: 0.2500 - val_loss: 0.2557 - val_mean_squared_error: 0.2557\n",
            "Epoch 8/100\n",
            "8/8 [==============================] - 0s 5ms/step - loss: 0.2485 - mean_squared_error: 0.2485 - val_loss: 0.2544 - val_mean_squared_error: 0.2544\n",
            "Epoch 9/100\n",
            "8/8 [==============================] - 0s 8ms/step - loss: 0.2474 - mean_squared_error: 0.2474 - val_loss: 0.2531 - val_mean_squared_error: 0.2531\n",
            "Epoch 10/100\n",
            "8/8 [==============================] - 0s 6ms/step - loss: 0.2461 - mean_squared_error: 0.2461 - val_loss: 0.2518 - val_mean_squared_error: 0.2518\n",
            "Epoch 11/100\n",
            "8/8 [==============================] - 0s 9ms/step - loss: 0.2450 - mean_squared_error: 0.2450 - val_loss: 0.2503 - val_mean_squared_error: 0.2503\n",
            "Epoch 12/100\n",
            "8/8 [==============================] - 0s 6ms/step - loss: 0.2436 - mean_squared_error: 0.2436 - val_loss: 0.2491 - val_mean_squared_error: 0.2491\n",
            "Epoch 13/100\n",
            "8/8 [==============================] - 0s 8ms/step - loss: 0.2424 - mean_squared_error: 0.2424 - val_loss: 0.2478 - val_mean_squared_error: 0.2478\n",
            "Epoch 14/100\n",
            "8/8 [==============================] - 0s 8ms/step - loss: 0.2413 - mean_squared_error: 0.2413 - val_loss: 0.2464 - val_mean_squared_error: 0.2464\n",
            "Epoch 15/100\n",
            "8/8 [==============================] - 0s 6ms/step - loss: 0.2401 - mean_squared_error: 0.2401 - val_loss: 0.2451 - val_mean_squared_error: 0.2451\n",
            "Epoch 16/100\n",
            "8/8 [==============================] - 0s 6ms/step - loss: 0.2389 - mean_squared_error: 0.2389 - val_loss: 0.2438 - val_mean_squared_error: 0.2438\n",
            "Epoch 17/100\n",
            "8/8 [==============================] - 0s 9ms/step - loss: 0.2377 - mean_squared_error: 0.2377 - val_loss: 0.2425 - val_mean_squared_error: 0.2425\n",
            "Epoch 18/100\n",
            "8/8 [==============================] - 0s 6ms/step - loss: 0.2364 - mean_squared_error: 0.2364 - val_loss: 0.2412 - val_mean_squared_error: 0.2412\n",
            "Epoch 19/100\n",
            "8/8 [==============================] - 0s 7ms/step - loss: 0.2353 - mean_squared_error: 0.2353 - val_loss: 0.2400 - val_mean_squared_error: 0.2400\n",
            "Epoch 20/100\n",
            "8/8 [==============================] - 0s 9ms/step - loss: 0.2342 - mean_squared_error: 0.2342 - val_loss: 0.2389 - val_mean_squared_error: 0.2389\n",
            "Epoch 21/100\n",
            "8/8 [==============================] - 0s 8ms/step - loss: 0.2331 - mean_squared_error: 0.2331 - val_loss: 0.2375 - val_mean_squared_error: 0.2375\n",
            "Epoch 22/100\n",
            "8/8 [==============================] - 0s 8ms/step - loss: 0.2319 - mean_squared_error: 0.2319 - val_loss: 0.2361 - val_mean_squared_error: 0.2361\n",
            "Epoch 23/100\n",
            "8/8 [==============================] - 0s 6ms/step - loss: 0.2307 - mean_squared_error: 0.2307 - val_loss: 0.2347 - val_mean_squared_error: 0.2347\n",
            "Epoch 24/100\n",
            "8/8 [==============================] - 0s 7ms/step - loss: 0.2294 - mean_squared_error: 0.2294 - val_loss: 0.2337 - val_mean_squared_error: 0.2337\n",
            "Epoch 25/100\n",
            "8/8 [==============================] - 0s 8ms/step - loss: 0.2285 - mean_squared_error: 0.2285 - val_loss: 0.2326 - val_mean_squared_error: 0.2326\n",
            "Epoch 26/100\n",
            "8/8 [==============================] - 0s 7ms/step - loss: 0.2275 - mean_squared_error: 0.2275 - val_loss: 0.2315 - val_mean_squared_error: 0.2315\n",
            "Epoch 27/100\n",
            "8/8 [==============================] - 0s 8ms/step - loss: 0.2265 - mean_squared_error: 0.2265 - val_loss: 0.2303 - val_mean_squared_error: 0.2303\n",
            "Epoch 28/100\n",
            "8/8 [==============================] - 0s 6ms/step - loss: 0.2254 - mean_squared_error: 0.2254 - val_loss: 0.2291 - val_mean_squared_error: 0.2291\n",
            "Epoch 29/100\n",
            "8/8 [==============================] - 0s 6ms/step - loss: 0.2243 - mean_squared_error: 0.2243 - val_loss: 0.2281 - val_mean_squared_error: 0.2281\n",
            "Epoch 30/100\n",
            "8/8 [==============================] - 0s 6ms/step - loss: 0.2234 - mean_squared_error: 0.2234 - val_loss: 0.2272 - val_mean_squared_error: 0.2272\n",
            "Epoch 31/100\n",
            "8/8 [==============================] - 0s 6ms/step - loss: 0.2224 - mean_squared_error: 0.2224 - val_loss: 0.2261 - val_mean_squared_error: 0.2261\n",
            "Epoch 32/100\n",
            "8/8 [==============================] - 0s 8ms/step - loss: 0.2214 - mean_squared_error: 0.2214 - val_loss: 0.2251 - val_mean_squared_error: 0.2251\n",
            "Epoch 33/100\n",
            "8/8 [==============================] - 0s 6ms/step - loss: 0.2205 - mean_squared_error: 0.2205 - val_loss: 0.2243 - val_mean_squared_error: 0.2243\n",
            "Epoch 34/100\n",
            "8/8 [==============================] - 0s 6ms/step - loss: 0.2197 - mean_squared_error: 0.2197 - val_loss: 0.2233 - val_mean_squared_error: 0.2233\n",
            "Epoch 35/100\n",
            "8/8 [==============================] - 0s 6ms/step - loss: 0.2188 - mean_squared_error: 0.2188 - val_loss: 0.2225 - val_mean_squared_error: 0.2225\n",
            "Epoch 36/100\n",
            "8/8 [==============================] - 0s 6ms/step - loss: 0.2179 - mean_squared_error: 0.2179 - val_loss: 0.2216 - val_mean_squared_error: 0.2216\n",
            "Epoch 37/100\n",
            "8/8 [==============================] - 0s 8ms/step - loss: 0.2171 - mean_squared_error: 0.2171 - val_loss: 0.2207 - val_mean_squared_error: 0.2207\n",
            "Epoch 38/100\n",
            "8/8 [==============================] - 0s 6ms/step - loss: 0.2161 - mean_squared_error: 0.2161 - val_loss: 0.2197 - val_mean_squared_error: 0.2197\n",
            "Epoch 39/100\n",
            "8/8 [==============================] - 0s 6ms/step - loss: 0.2152 - mean_squared_error: 0.2152 - val_loss: 0.2188 - val_mean_squared_error: 0.2188\n",
            "Epoch 40/100\n",
            "8/8 [==============================] - 0s 6ms/step - loss: 0.2142 - mean_squared_error: 0.2142 - val_loss: 0.2179 - val_mean_squared_error: 0.2179\n",
            "Epoch 41/100\n",
            "8/8 [==============================] - 0s 8ms/step - loss: 0.2133 - mean_squared_error: 0.2133 - val_loss: 0.2170 - val_mean_squared_error: 0.2170\n",
            "Epoch 42/100\n",
            "8/8 [==============================] - 0s 8ms/step - loss: 0.2124 - mean_squared_error: 0.2124 - val_loss: 0.2161 - val_mean_squared_error: 0.2161\n",
            "Epoch 43/100\n",
            "8/8 [==============================] - 0s 6ms/step - loss: 0.2116 - mean_squared_error: 0.2116 - val_loss: 0.2152 - val_mean_squared_error: 0.2152\n",
            "Epoch 44/100\n",
            "8/8 [==============================] - 0s 6ms/step - loss: 0.2106 - mean_squared_error: 0.2106 - val_loss: 0.2142 - val_mean_squared_error: 0.2142\n",
            "Epoch 45/100\n",
            "8/8 [==============================] - 0s 7ms/step - loss: 0.2097 - mean_squared_error: 0.2097 - val_loss: 0.2132 - val_mean_squared_error: 0.2132\n",
            "Epoch 46/100\n",
            "8/8 [==============================] - 0s 8ms/step - loss: 0.2088 - mean_squared_error: 0.2088 - val_loss: 0.2123 - val_mean_squared_error: 0.2123\n",
            "Epoch 47/100\n",
            "8/8 [==============================] - 0s 6ms/step - loss: 0.2079 - mean_squared_error: 0.2079 - val_loss: 0.2114 - val_mean_squared_error: 0.2114\n",
            "Epoch 48/100\n",
            "8/8 [==============================] - 0s 6ms/step - loss: 0.2070 - mean_squared_error: 0.2070 - val_loss: 0.2106 - val_mean_squared_error: 0.2106\n",
            "Epoch 49/100\n",
            "8/8 [==============================] - 0s 7ms/step - loss: 0.2062 - mean_squared_error: 0.2062 - val_loss: 0.2098 - val_mean_squared_error: 0.2098\n",
            "Epoch 50/100\n",
            "8/8 [==============================] - 0s 8ms/step - loss: 0.2053 - mean_squared_error: 0.2053 - val_loss: 0.2090 - val_mean_squared_error: 0.2090\n",
            "Epoch 51/100\n",
            "8/8 [==============================] - 0s 9ms/step - loss: 0.2045 - mean_squared_error: 0.2045 - val_loss: 0.2082 - val_mean_squared_error: 0.2082\n",
            "Epoch 52/100\n",
            "8/8 [==============================] - 0s 9ms/step - loss: 0.2037 - mean_squared_error: 0.2037 - val_loss: 0.2075 - val_mean_squared_error: 0.2075\n",
            "Epoch 53/100\n",
            "8/8 [==============================] - 0s 9ms/step - loss: 0.2030 - mean_squared_error: 0.2030 - val_loss: 0.2066 - val_mean_squared_error: 0.2066\n",
            "Epoch 54/100\n",
            "8/8 [==============================] - 0s 8ms/step - loss: 0.2021 - mean_squared_error: 0.2021 - val_loss: 0.2058 - val_mean_squared_error: 0.2058\n",
            "Epoch 55/100\n",
            "8/8 [==============================] - 0s 6ms/step - loss: 0.2014 - mean_squared_error: 0.2014 - val_loss: 0.2050 - val_mean_squared_error: 0.2050\n",
            "Epoch 56/100\n",
            "8/8 [==============================] - 0s 6ms/step - loss: 0.2006 - mean_squared_error: 0.2006 - val_loss: 0.2041 - val_mean_squared_error: 0.2041\n",
            "Epoch 57/100\n",
            "8/8 [==============================] - 0s 9ms/step - loss: 0.1997 - mean_squared_error: 0.1997 - val_loss: 0.2032 - val_mean_squared_error: 0.2032\n",
            "Epoch 58/100\n",
            "8/8 [==============================] - 0s 6ms/step - loss: 0.1989 - mean_squared_error: 0.1989 - val_loss: 0.2025 - val_mean_squared_error: 0.2025\n",
            "Epoch 59/100\n",
            "8/8 [==============================] - 0s 9ms/step - loss: 0.1981 - mean_squared_error: 0.1981 - val_loss: 0.2017 - val_mean_squared_error: 0.2017\n",
            "Epoch 60/100\n",
            "8/8 [==============================] - 0s 6ms/step - loss: 0.1973 - mean_squared_error: 0.1973 - val_loss: 0.2009 - val_mean_squared_error: 0.2009\n",
            "Epoch 61/100\n",
            "8/8 [==============================] - 0s 6ms/step - loss: 0.1965 - mean_squared_error: 0.1965 - val_loss: 0.2001 - val_mean_squared_error: 0.2001\n",
            "Epoch 62/100\n",
            "8/8 [==============================] - 0s 8ms/step - loss: 0.1957 - mean_squared_error: 0.1957 - val_loss: 0.1993 - val_mean_squared_error: 0.1993\n",
            "Epoch 63/100\n",
            "8/8 [==============================] - 0s 7ms/step - loss: 0.1949 - mean_squared_error: 0.1949 - val_loss: 0.1985 - val_mean_squared_error: 0.1985\n",
            "Epoch 64/100\n",
            "8/8 [==============================] - 0s 9ms/step - loss: 0.1942 - mean_squared_error: 0.1942 - val_loss: 0.1977 - val_mean_squared_error: 0.1977\n",
            "Epoch 65/100\n",
            "8/8 [==============================] - 0s 8ms/step - loss: 0.1934 - mean_squared_error: 0.1934 - val_loss: 0.1969 - val_mean_squared_error: 0.1969\n",
            "Epoch 66/100\n",
            "8/8 [==============================] - 0s 8ms/step - loss: 0.1926 - mean_squared_error: 0.1926 - val_loss: 0.1962 - val_mean_squared_error: 0.1962\n",
            "Epoch 67/100\n",
            "8/8 [==============================] - 0s 6ms/step - loss: 0.1919 - mean_squared_error: 0.1919 - val_loss: 0.1955 - val_mean_squared_error: 0.1955\n",
            "Epoch 68/100\n",
            "8/8 [==============================] - 0s 7ms/step - loss: 0.1912 - mean_squared_error: 0.1912 - val_loss: 0.1948 - val_mean_squared_error: 0.1948\n",
            "Epoch 69/100\n",
            "8/8 [==============================] - 0s 7ms/step - loss: 0.1904 - mean_squared_error: 0.1904 - val_loss: 0.1941 - val_mean_squared_error: 0.1941\n",
            "Epoch 70/100\n",
            "8/8 [==============================] - 0s 6ms/step - loss: 0.1897 - mean_squared_error: 0.1897 - val_loss: 0.1933 - val_mean_squared_error: 0.1933\n",
            "Epoch 71/100\n",
            "8/8 [==============================] - 0s 9ms/step - loss: 0.1890 - mean_squared_error: 0.1890 - val_loss: 0.1926 - val_mean_squared_error: 0.1926\n",
            "Epoch 72/100\n",
            "8/8 [==============================] - 0s 6ms/step - loss: 0.1883 - mean_squared_error: 0.1883 - val_loss: 0.1919 - val_mean_squared_error: 0.1919\n",
            "Epoch 73/100\n",
            "8/8 [==============================] - 0s 5ms/step - loss: 0.1876 - mean_squared_error: 0.1876 - val_loss: 0.1911 - val_mean_squared_error: 0.1911\n",
            "Epoch 74/100\n",
            "8/8 [==============================] - 0s 7ms/step - loss: 0.1869 - mean_squared_error: 0.1869 - val_loss: 0.1905 - val_mean_squared_error: 0.1905\n",
            "Epoch 75/100\n",
            "8/8 [==============================] - 0s 8ms/step - loss: 0.1862 - mean_squared_error: 0.1862 - val_loss: 0.1898 - val_mean_squared_error: 0.1898\n",
            "Epoch 76/100\n",
            "8/8 [==============================] - 0s 5ms/step - loss: 0.1856 - mean_squared_error: 0.1856 - val_loss: 0.1891 - val_mean_squared_error: 0.1891\n",
            "Epoch 77/100\n",
            "8/8 [==============================] - 0s 6ms/step - loss: 0.1848 - mean_squared_error: 0.1848 - val_loss: 0.1883 - val_mean_squared_error: 0.1883\n",
            "Epoch 78/100\n",
            "8/8 [==============================] - 0s 6ms/step - loss: 0.1841 - mean_squared_error: 0.1841 - val_loss: 0.1876 - val_mean_squared_error: 0.1876\n",
            "Epoch 79/100\n",
            "8/8 [==============================] - 0s 6ms/step - loss: 0.1835 - mean_squared_error: 0.1835 - val_loss: 0.1870 - val_mean_squared_error: 0.1870\n",
            "Epoch 80/100\n",
            "8/8 [==============================] - 0s 8ms/step - loss: 0.1828 - mean_squared_error: 0.1828 - val_loss: 0.1864 - val_mean_squared_error: 0.1864\n",
            "Epoch 81/100\n",
            "8/8 [==============================] - 0s 6ms/step - loss: 0.1822 - mean_squared_error: 0.1822 - val_loss: 0.1857 - val_mean_squared_error: 0.1857\n",
            "Epoch 82/100\n",
            "8/8 [==============================] - 0s 8ms/step - loss: 0.1814 - mean_squared_error: 0.1814 - val_loss: 0.1849 - val_mean_squared_error: 0.1849\n",
            "Epoch 83/100\n",
            "8/8 [==============================] - 0s 8ms/step - loss: 0.1807 - mean_squared_error: 0.1807 - val_loss: 0.1843 - val_mean_squared_error: 0.1843\n",
            "Epoch 84/100\n",
            "8/8 [==============================] - 0s 7ms/step - loss: 0.1801 - mean_squared_error: 0.1801 - val_loss: 0.1837 - val_mean_squared_error: 0.1837\n",
            "Epoch 85/100\n",
            "8/8 [==============================] - 0s 8ms/step - loss: 0.1794 - mean_squared_error: 0.1794 - val_loss: 0.1831 - val_mean_squared_error: 0.1831\n",
            "Epoch 86/100\n",
            "8/8 [==============================] - 0s 6ms/step - loss: 0.1788 - mean_squared_error: 0.1788 - val_loss: 0.1825 - val_mean_squared_error: 0.1825\n",
            "Epoch 87/100\n",
            "8/8 [==============================] - 0s 9ms/step - loss: 0.1781 - mean_squared_error: 0.1781 - val_loss: 0.1819 - val_mean_squared_error: 0.1819\n",
            "Epoch 88/100\n",
            "8/8 [==============================] - 0s 6ms/step - loss: 0.1775 - mean_squared_error: 0.1775 - val_loss: 0.1812 - val_mean_squared_error: 0.1812\n",
            "Epoch 89/100\n",
            "8/8 [==============================] - 0s 8ms/step - loss: 0.1768 - mean_squared_error: 0.1768 - val_loss: 0.1805 - val_mean_squared_error: 0.1805\n",
            "Epoch 90/100\n",
            "8/8 [==============================] - 0s 6ms/step - loss: 0.1761 - mean_squared_error: 0.1761 - val_loss: 0.1799 - val_mean_squared_error: 0.1799\n",
            "Epoch 91/100\n",
            "8/8 [==============================] - 0s 8ms/step - loss: 0.1755 - mean_squared_error: 0.1755 - val_loss: 0.1793 - val_mean_squared_error: 0.1793\n",
            "Epoch 92/100\n",
            "8/8 [==============================] - 0s 7ms/step - loss: 0.1749 - mean_squared_error: 0.1749 - val_loss: 0.1787 - val_mean_squared_error: 0.1787\n",
            "Epoch 93/100\n",
            "8/8 [==============================] - 0s 6ms/step - loss: 0.1742 - mean_squared_error: 0.1742 - val_loss: 0.1782 - val_mean_squared_error: 0.1782\n",
            "Epoch 94/100\n",
            "8/8 [==============================] - 0s 6ms/step - loss: 0.1736 - mean_squared_error: 0.1736 - val_loss: 0.1776 - val_mean_squared_error: 0.1776\n",
            "Epoch 95/100\n",
            "8/8 [==============================] - 0s 6ms/step - loss: 0.1731 - mean_squared_error: 0.1731 - val_loss: 0.1770 - val_mean_squared_error: 0.1770\n",
            "Epoch 96/100\n",
            "8/8 [==============================] - 0s 8ms/step - loss: 0.1725 - mean_squared_error: 0.1725 - val_loss: 0.1765 - val_mean_squared_error: 0.1765\n",
            "Epoch 97/100\n",
            "8/8 [==============================] - 0s 6ms/step - loss: 0.1719 - mean_squared_error: 0.1719 - val_loss: 0.1759 - val_mean_squared_error: 0.1759\n",
            "Epoch 98/100\n",
            "8/8 [==============================] - 0s 7ms/step - loss: 0.1713 - mean_squared_error: 0.1713 - val_loss: 0.1752 - val_mean_squared_error: 0.1752\n",
            "Epoch 99/100\n",
            "8/8 [==============================] - 0s 6ms/step - loss: 0.1707 - mean_squared_error: 0.1707 - val_loss: 0.1747 - val_mean_squared_error: 0.1747\n",
            "Epoch 100/100\n",
            "8/8 [==============================] - 0s 5ms/step - loss: 0.1701 - mean_squared_error: 0.1701 - val_loss: 0.1741 - val_mean_squared_error: 0.1741\n"
          ]
        }
      ]
    },
    {
      "cell_type": "code",
      "source": [
        "plt.plot(history.history['loss'])\n",
        "plt.plot(history.history['val_loss'])\n",
        "plt.title('Metrica de erro')\n",
        "plt.ylabel('Erro')\n",
        "plt.xlabel('Epoca')\n",
        "plt.legend(['Treinamento', 'Validacao'])\n",
        "plt.show()\n",
        "\n",
        "pred = np.round(model.predict(X_test))\n",
        "pred_train = np.round(model.predict(X_train))"
      ],
      "metadata": {
        "colab": {
          "base_uri": "https://localhost:8080/",
          "height": 295
        },
        "id": "NppjSUpOKMbY",
        "outputId": "81890c3e-a542-47ce-c1df-7f6e44194e39"
      },
      "execution_count": null,
      "outputs": [
        {
          "output_type": "display_data",
          "data": {
            "text/plain": [
              "<Figure size 432x288 with 1 Axes>"
            ],
            "image/png": "[encoded data removed]"
          },
          "metadata": {
            "needs_background": "light"
          }
        }
      ]
    },
    {
      "cell_type": "code",
      "source": [
        "y_pred = np.round(model.predict(X_test))\n",
        "print(classification_report(y_test,y_pred))\n",
        "print('Matriz de Confusão: \\n')\n",
        "print(confusion_matrix(y_test,pred))"
      ],
      "metadata": {
        "colab": {
          "base_uri": "https://localhost:8080/"
        },
        "id": "ayhp3uXbMf6H",
        "outputId": "21e8a794-8350-4845-e11e-59f173bbe1b7"
      },
      "execution_count": null,
      "outputs": [
        {
          "output_type": "stream",
          "name": "stdout",
          "text": [
            "              precision    recall  f1-score   support\n",
            "\n",
            "           0       0.78      0.93      0.85       131\n",
            "           1       0.85      0.60      0.70        84\n",
            "\n",
            "    accuracy                           0.80       215\n",
            "   macro avg       0.81      0.76      0.77       215\n",
            "weighted avg       0.81      0.80      0.79       215\n",
            "\n",
            "Matriz de Confusão: \n",
            "\n",
            "[[122   9]\n",
            " [ 34  50]]\n"
          ]
        }
      ]
    },
    {
      "cell_type": "markdown",
      "source": [
        "# Questão 2"
      ],
      "metadata": {
        "id": "GhrqQ3aRSRPv"
      }
    },
    {
      "cell_type": "code",
      "source": [
        "(X_train,y_train),(X_test,y_test) = mnist.load_data()\n",
        "plt.imshow(X_train[0])"
      ],
      "metadata": {
        "id": "XS-c5W1hSPIg",
        "colab": {
          "base_uri": "https://localhost:8080/",
          "height": 282
        },
        "outputId": "953e1c88-ffa5-4b01-ccfc-ddfe5835e33b"
      },
      "execution_count": null,
      "outputs": [
        {
          "output_type": "execute_result",
          "data": {
            "text/plain": [
              "<matplotlib.image.AxesImage at 0x7ff4de9218d0>"
            ]
          },
          "metadata": {},
          "execution_count": 83
        },
        {
          "output_type": "display_data",
          "data": {
            "text/plain": [
              "<Figure size 432x288 with 1 Axes>"
            ],
            "image/png": "[encoded data removed]"
          },
          "metadata": {
            "needs_background": "light"
          }
        }
      ]
    },
    {
      "cell_type": "code",
      "source": [
        "X_train = X_train.reshape(X_train.shape[0], 28*28)/255.0\n",
        "X_test = X_test.reshape(X_test.shape[0], 28*28)/255.0\n",
        "\n",
        "one = OneHotEncoder(sparse=False)\n",
        "\n",
        "y_train = one.fit_transform(y_train.reshape(-1,1))\n",
        "y_test = one.fit_transform(y_test.reshape(-1,1))"
      ],
      "metadata": {
        "id": "qjxoNirqUsFu"
      },
      "execution_count": null,
      "outputs": []
    },
    {
      "cell_type": "code",
      "source": [
        "X_train.shape, y_train.shape"
      ],
      "metadata": {
        "colab": {
          "base_uri": "https://localhost:8080/"
        },
        "id": "bfYP4WF1VshE",
        "outputId": "edcba353-1b49-435b-9bcb-ab53b44ef235"
      },
      "execution_count": null,
      "outputs": [
        {
          "output_type": "execute_result",
          "data": {
            "text/plain": [
              "((60000, 784), (60000, 10))"
            ]
          },
          "metadata": {},
          "execution_count": 85
        }
      ]
    },
    {
      "cell_type": "code",
      "source": [
        "y_train"
      ],
      "metadata": {
        "colab": {
          "base_uri": "https://localhost:8080/"
        },
        "id": "5qbTCt44myOv",
        "outputId": "578f65b7-a237-4838-c574-81d20383c366"
      },
      "execution_count": null,
      "outputs": [
        {
          "output_type": "execute_result",
          "data": {
            "text/plain": [
              "array([[0., 0., 0., ..., 0., 0., 0.],\n",
              "       [1., 0., 0., ..., 0., 0., 0.],\n",
              "       [0., 0., 0., ..., 0., 0., 0.],\n",
              "       ...,\n",
              "       [0., 0., 0., ..., 0., 0., 0.],\n",
              "       [0., 0., 0., ..., 0., 0., 0.],\n",
              "       [0., 0., 0., ..., 0., 1., 0.]])"
            ]
          },
          "metadata": {},
          "execution_count": 86
        }
      ]
    },
    {
      "cell_type": "code",
      "source": [
        "model = tf.keras.models.Sequential([\n",
        "    tf.keras.layers.Dense(12, input_shape=(784,),activation='relu'),\n",
        "    tf.keras.layers.Dense(12, activation='relu'),\n",
        "\n",
        "\n",
        "    tf.keras.layers.Dense(10, activation='softmax')\n",
        "\n",
        "])\n",
        "\n",
        "model.compile(loss='categorical_crossentropy', optimizer='adam', metrics=['accuracy'])"
      ],
      "metadata": {
        "id": "y7wEC8-TVHkX"
      },
      "execution_count": null,
      "outputs": []
    },
    {
      "cell_type": "code",
      "source": [
        "model.summary()"
      ],
      "metadata": {
        "colab": {
          "base_uri": "https://localhost:8080/"
        },
        "id": "v6stoxSr1QIl",
        "outputId": "ff5cfecd-7561-4109-c5ae-346ea0e9b5a4"
      },
      "execution_count": null,
      "outputs": [
        {
          "output_type": "stream",
          "name": "stdout",
          "text": [
            "Model: \"sequential_6\"\n",
            "_________________________________________________________________\n",
            " Layer (type)                Output Shape              Param #   \n",
            "=================================================================\n",
            " dense_18 (Dense)            (None, 12)                9420      \n",
            "                                                                 \n",
            " dense_19 (Dense)            (None, 12)                156       \n",
            "                                                                 \n",
            " dense_20 (Dense)            (None, 10)                130       \n",
            "                                                                 \n",
            "=================================================================\n",
            "Total params: 9,706\n",
            "Trainable params: 9,706\n",
            "Non-trainable params: 0\n",
            "_________________________________________________________________\n"
          ]
        }
      ]
    },
    {
      "cell_type": "code",
      "source": [
        "fit = model.fit(X_train, y_train, epochs=10, validation_data=(X_test, y_test))"
      ],
      "metadata": {
        "colab": {
          "base_uri": "https://localhost:8080/"
        },
        "id": "_smD0bg2VYR7",
        "outputId": "0ad16c48-4dfa-429f-f3d8-cbdd7626ccfd"
      },
      "execution_count": null,
      "outputs": [
        {
          "output_type": "stream",
          "name": "stdout",
          "text": [
            "Epoch 1/10\n",
            "1875/1875 [==============================] - 4s 2ms/step - loss: 0.5046 - accuracy: 0.8471 - val_loss: 0.3143 - val_accuracy: 0.9072\n",
            "Epoch 2/10\n",
            "1875/1875 [==============================] - 3s 2ms/step - loss: 0.2888 - accuracy: 0.9173 - val_loss: 0.2610 - val_accuracy: 0.9215\n",
            "Epoch 3/10\n",
            "1875/1875 [==============================] - 4s 2ms/step - loss: 0.2495 - accuracy: 0.9285 - val_loss: 0.2353 - val_accuracy: 0.9314\n",
            "Epoch 4/10\n",
            "1875/1875 [==============================] - 3s 2ms/step - loss: 0.2257 - accuracy: 0.9348 - val_loss: 0.2253 - val_accuracy: 0.9342\n",
            "Epoch 5/10\n",
            "1875/1875 [==============================] - 4s 2ms/step - loss: 0.2099 - accuracy: 0.9399 - val_loss: 0.2245 - val_accuracy: 0.9358\n",
            "Epoch 6/10\n",
            "1875/1875 [==============================] - 3s 2ms/step - loss: 0.1983 - accuracy: 0.9424 - val_loss: 0.2112 - val_accuracy: 0.9372\n",
            "Epoch 7/10\n",
            "1875/1875 [==============================] - 4s 2ms/step - loss: 0.1891 - accuracy: 0.9438 - val_loss: 0.2149 - val_accuracy: 0.9371\n",
            "Epoch 8/10\n",
            "1875/1875 [==============================] - 3s 2ms/step - loss: 0.1814 - accuracy: 0.9468 - val_loss: 0.2031 - val_accuracy: 0.9390\n",
            "Epoch 9/10\n",
            "1875/1875 [==============================] - 3s 2ms/step - loss: 0.1751 - accuracy: 0.9483 - val_loss: 0.2105 - val_accuracy: 0.9389\n",
            "Epoch 10/10\n",
            "1875/1875 [==============================] - 3s 2ms/step - loss: 0.1690 - accuracy: 0.9490 - val_loss: 0.1951 - val_accuracy: 0.9428\n"
          ]
        }
      ]
    },
    {
      "cell_type": "code",
      "source": [
        "# ajustando os shapes\n",
        "X_train = X_train.reshape(X_train.shape[0], 28,28,1)\n",
        "X_test = X_test.reshape(X_test.shape[0], 28,28,1)\n"
      ],
      "metadata": {
        "id": "0hF9nl8Ewpn_"
      },
      "execution_count": null,
      "outputs": []
    },
    {
      "cell_type": "code",
      "source": [
        "model_ = tf.keras.models.Sequential([\n",
        "    tf.keras.layers.Conv2D(10, (5,5), padding='same', input_shape=(28,28,1), kernel_initializer=\"normal\", activation='relu', \n",
        "                           kernel_regularizer=tf.keras.regularizers.l1(0.01)),\n",
        "     \n",
        "     tf.keras.layers.MaxPooling2D((2,2)),\n",
        "    \n",
        "     tf.keras.layers.Flatten(),\n",
        "     \n",
        "     tf.keras.layers.Dense(30, activation='relu', kernel_initializer=\"normal\"),\n",
        "     tf.keras.layers.Dense(30, activation='relu', kernel_initializer=\"normal\"),\n",
        "     tf.keras.layers.Dense(10, activation='softmax')\n",
        "])\n",
        "model_.compile(loss=tf.keras.losses.categorical_crossentropy, optimizer='adam', metrics=['accuracy'])"
      ],
      "metadata": {
        "id": "L0fcNh7KwU7o"
      },
      "execution_count": null,
      "outputs": []
    },
    {
      "cell_type": "code",
      "source": [
        "model_.summary()"
      ],
      "metadata": {
        "colab": {
          "base_uri": "https://localhost:8080/"
        },
        "id": "Nw3cUweB1T8r",
        "outputId": "89fb36c1-f796-4377-ebe7-ef1b45e72193"
      },
      "execution_count": null,
      "outputs": [
        {
          "output_type": "stream",
          "name": "stdout",
          "text": [
            "Model: \"sequential_7\"\n",
            "_________________________________________________________________\n",
            " Layer (type)                Output Shape              Param #   \n",
            "=================================================================\n",
            " conv2d_3 (Conv2D)           (None, 28, 28, 10)        260       \n",
            "                                                                 \n",
            " max_pooling2d_3 (MaxPooling  (None, 14, 14, 10)       0         \n",
            " 2D)                                                             \n",
            "                                                                 \n",
            " flatten_3 (Flatten)         (None, 1960)              0         \n",
            "                                                                 \n",
            " dense_21 (Dense)            (None, 30)                58830     \n",
            "                                                                 \n",
            " dense_22 (Dense)            (None, 30)                930       \n",
            "                                                                 \n",
            " dense_23 (Dense)            (None, 10)                310       \n",
            "                                                                 \n",
            "=================================================================\n",
            "Total params: 60,330\n",
            "Trainable params: 60,330\n",
            "Non-trainable params: 0\n",
            "_________________________________________________________________\n"
          ]
        }
      ]
    },
    {
      "cell_type": "code",
      "source": [
        "history_ = model_.fit(X_train, y_train, epochs=10, validation_data=(X_test,y_test))"
      ],
      "metadata": {
        "colab": {
          "base_uri": "https://localhost:8080/"
        },
        "id": "9PvkYchxwg3m",
        "outputId": "2556b621-c449-4f25-b64f-ba5f8f669782"
      },
      "execution_count": null,
      "outputs": [
        {
          "output_type": "stream",
          "name": "stdout",
          "text": [
            "Epoch 1/10\n",
            "1875/1875 [==============================] - 33s 18ms/step - loss: 0.4185 - accuracy: 0.9053 - val_loss: 0.2315 - val_accuracy: 0.9525\n",
            "Epoch 2/10\n",
            "1875/1875 [==============================] - 32s 17ms/step - loss: 0.2009 - accuracy: 0.9596 - val_loss: 0.1675 - val_accuracy: 0.9646\n",
            "Epoch 3/10\n",
            "1875/1875 [==============================] - 33s 18ms/step - loss: 0.1579 - accuracy: 0.9681 - val_loss: 0.1431 - val_accuracy: 0.9686\n",
            "Epoch 4/10\n",
            "1875/1875 [==============================] - 33s 17ms/step - loss: 0.1339 - accuracy: 0.9724 - val_loss: 0.1256 - val_accuracy: 0.9730\n",
            "Epoch 5/10\n",
            "1875/1875 [==============================] - 33s 17ms/step - loss: 0.1184 - accuracy: 0.9749 - val_loss: 0.1112 - val_accuracy: 0.9759\n",
            "Epoch 6/10\n",
            "1875/1875 [==============================] - 33s 17ms/step - loss: 0.1084 - accuracy: 0.9773 - val_loss: 0.1017 - val_accuracy: 0.9772\n",
            "Epoch 7/10\n",
            "1875/1875 [==============================] - 33s 17ms/step - loss: 0.0989 - accuracy: 0.9795 - val_loss: 0.0993 - val_accuracy: 0.9769\n",
            "Epoch 8/10\n",
            "1875/1875 [==============================] - 33s 17ms/step - loss: 0.0937 - accuracy: 0.9803 - val_loss: 0.1034 - val_accuracy: 0.9760\n",
            "Epoch 9/10\n",
            "1875/1875 [==============================] - 33s 17ms/step - loss: 0.0889 - accuracy: 0.9811 - val_loss: 0.0871 - val_accuracy: 0.9796\n",
            "Epoch 10/10\n",
            "1875/1875 [==============================] - 33s 17ms/step - loss: 0.0827 - accuracy: 0.9826 - val_loss: 0.0847 - val_accuracy: 0.9795\n"
          ]
        }
      ]
    },
    {
      "cell_type": "code",
      "source": [
        "plt.figure(figsize=(12,6))\n",
        "plt.title('Loss/Val_Loss - Epochs')\n",
        "plt.xlabel('Epochs')\n",
        "plt.ylabel('Loss')\n",
        "plt.plot(fit.history['loss'], color='darkred', label='Loss')\n",
        "plt.plot(fit.history['val_loss'], color='blue', label='Val_Loss')\n",
        "plt.legend(loc='best')\n",
        "plt.show()"
      ],
      "metadata": {
        "colab": {
          "base_uri": "https://localhost:8080/",
          "height": 404
        },
        "id": "3OTTI33byew6",
        "outputId": "ad5d68f4-9650-4c3f-8ef8-1dbc59454fc5"
      },
      "execution_count": null,
      "outputs": [
        {
          "output_type": "display_data",
          "data": {
            "text/plain": [
              "<Figure size 864x432 with 1 Axes>"
            ],
            "image/png": "[encoded data removed]"
          },
          "metadata": {
            "needs_background": "light"
          }
        }
      ]
    },
    {
      "cell_type": "code",
      "source": [
        "plt.figure(figsize=(12,6))\n",
        "plt.title('Loss/Val_Loss - Epochs')\n",
        "plt.xlabel('Epochs')\n",
        "plt.ylabel('Loss')\n",
        "plt.plot(history_.history['loss'], color='darkred', label='Loss')\n",
        "plt.plot(history_.history['val_loss'], color='blue', label='Val_Loss')\n",
        "plt.legend(loc='best')\n",
        "plt.show()"
      ],
      "metadata": {
        "colab": {
          "base_uri": "https://localhost:8080/",
          "height": 404
        },
        "id": "GjR3yC8nyiwN",
        "outputId": "bb78c456-0419-41b9-fd07-a8c10f6458d6"
      },
      "execution_count": null,
      "outputs": [
        {
          "output_type": "display_data",
          "data": {
            "text/plain": [
              "<Figure size 864x432 with 1 Axes>"
            ],
            "image/png": "[encoded data removed]"
          },
          "metadata": {
            "needs_background": "light"
          }
        }
      ]
    },
    {
      "cell_type": "code",
      "source": [
        "y_pred = model.predict(X_test.reshape(X_test.shape[0],28*28))\n",
        "y_pred = list(map(lambda x: x.argmax(), y_pred))\n",
        "y_test_ = list(map(lambda x: x.argmax(), y_test))\n",
        "print(classification_report(y_test_,np.transpose(y_pred)))"
      ],
      "metadata": {
        "id": "EBPwouZWV4gS",
        "colab": {
          "base_uri": "https://localhost:8080/"
        },
        "outputId": "2c0dab09-075d-429c-a4d8-68ebaeb6fc79"
      },
      "execution_count": null,
      "outputs": [
        {
          "output_type": "stream",
          "name": "stdout",
          "text": [
            "              precision    recall  f1-score   support\n",
            "\n",
            "           0       0.96      0.97      0.97       980\n",
            "           1       0.97      0.99      0.98      1135\n",
            "           2       0.95      0.92      0.94      1032\n",
            "           3       0.89      0.95      0.92      1010\n",
            "           4       0.96      0.95      0.95       982\n",
            "           5       0.95      0.85      0.90       892\n",
            "           6       0.94      0.96      0.95       958\n",
            "           7       0.92      0.97      0.94      1028\n",
            "           8       0.94      0.92      0.93       974\n",
            "           9       0.95      0.94      0.94      1009\n",
            "\n",
            "    accuracy                           0.94     10000\n",
            "   macro avg       0.94      0.94      0.94     10000\n",
            "weighted avg       0.94      0.94      0.94     10000\n",
            "\n"
          ]
        }
      ]
    },
    {
      "cell_type": "code",
      "source": [
        "y_pred_ = np.argmax(model_.predict(X_test), axis=1)\n",
        "y_test_ = np.argmax(y_test, axis=1)\n",
        "\n",
        "print(classification_report(y_test_,y_pred_, zero_division=True))"
      ],
      "metadata": {
        "colab": {
          "base_uri": "https://localhost:8080/"
        },
        "id": "2Luy8aUC1ZQf",
        "outputId": "f0cbf19a-606f-488c-f984-f085d3b30295"
      },
      "execution_count": null,
      "outputs": [
        {
          "output_type": "stream",
          "name": "stdout",
          "text": [
            "              precision    recall  f1-score   support\n",
            "\n",
            "           0       0.98      0.98      0.98       980\n",
            "           1       0.99      0.99      0.99      1135\n",
            "           2       0.98      0.97      0.98      1032\n",
            "           3       0.97      0.98      0.97      1010\n",
            "           4       0.98      0.99      0.99       982\n",
            "           5       0.98      0.98      0.98       892\n",
            "           6       0.98      0.98      0.98       958\n",
            "           7       0.97      0.99      0.98      1028\n",
            "           8       0.97      0.96      0.97       974\n",
            "           9       0.98      0.97      0.97      1009\n",
            "\n",
            "    accuracy                           0.98     10000\n",
            "   macro avg       0.98      0.98      0.98     10000\n",
            "weighted avg       0.98      0.98      0.98     10000\n",
            "\n"
          ]
        }
      ]
    },
    {
      "cell_type": "code",
      "source": [
        "np.argmax(model_.predict(X_test), axis=1)"
      ],
      "metadata": {
        "colab": {
          "base_uri": "https://localhost:8080/"
        },
        "id": "ntqwNyVe2K67",
        "outputId": "bd582501-c7a4-45e9-f471-be5f7f2fb65c"
      },
      "execution_count": null,
      "outputs": [
        {
          "output_type": "execute_result",
          "data": {
            "text/plain": [
              "array([7, 2, 1, ..., 4, 5, 6])"
            ]
          },
          "metadata": {},
          "execution_count": 73
        }
      ]
    },
    {
      "cell_type": "code",
      "source": [
        "y_test_"
      ],
      "metadata": {
        "colab": {
          "base_uri": "https://localhost:8080/"
        },
        "id": "7vVMWQFj2tGq",
        "outputId": "5bc109f5-863a-4b64-93a5-0c51bd970ea6"
      },
      "execution_count": null,
      "outputs": [
        {
          "output_type": "execute_result",
          "data": {
            "text/plain": [
              "0"
            ]
          },
          "metadata": {},
          "execution_count": 79
        }
      ]
    },
    {
      "cell_type": "code",
      "source": [
        "y_pred"
      ],
      "metadata": {
        "colab": {
          "base_uri": "https://localhost:8080/"
        },
        "id": "hGdmz7R_2U-j",
        "outputId": "06422715-1483-4afd-bd72-2abaf1f6efaa"
      },
      "execution_count": null,
      "outputs": [
        {
          "output_type": "execute_result",
          "data": {
            "text/plain": [
              "7"
            ]
          },
          "metadata": {},
          "execution_count": 71
        }
      ]
    },
    {
      "cell_type": "code",
      "source": [
        "X_test[200]"
      ],
      "metadata": {
        "colab": {
          "base_uri": "https://localhost:8080/"
        },
        "id": "qauXOspf1q9S",
        "outputId": "7d4105d9-5c89-4a92-852a-fd116cb0d464"
      },
      "execution_count": null,
      "outputs": [
        {
          "output_type": "execute_result",
          "data": {
            "text/plain": [
              "array([[  0,   0,   0,   0,   0,   0,   0,   0,   0,   0,   0,   0,   0,\n",
              "          0,   0,   0,   0,   0,   0,   0,   0,   0,   0,   0,   0,   0,\n",
              "          0,   0],\n",
              "       [  0,   0,   0,   0,   0,   0,   0,   0,   0,   0,   0,   0,   0,\n",
              "          0,   0,   0,   0,   0,   0,   0,   0,   0,   0,   0,   0,   0,\n",
              "          0,   0],\n",
              "       [  0,   0,   0,   0,   0,   0,   0,   0,   0,   0,   0,   0,   0,\n",
              "          0,   0,   0,   0,   0,   0,   0,   0,   0,   0,   0,   0,   0,\n",
              "          0,   0],\n",
              "       [  0,   0,   0,   0,   0,   0,   0,   0,   0,   0,   0,   0,   0,\n",
              "          0,   0,   0,   0,   0,   0,   0,   0,   0,   0,   0,   0,   0,\n",
              "          0,   0],\n",
              "       [  0,   0,   0,   0,   0,   0,   0,   0,   0,  79, 109, 255, 253,\n",
              "        253, 253, 255, 253, 253, 170,  63,   0,   0,   0,   0,   0,   0,\n",
              "          0,   0],\n",
              "       [  0,   0,   0,   0,   0,   0,   0,   0, 105, 242, 252, 253, 252,\n",
              "        252, 252, 253, 252, 252, 252, 176,  10,   0,   0,   0,   0,   0,\n",
              "          0,   0],\n",
              "       [  0,   0,   0,   0,   0,   0,   0,   0, 217, 252, 252, 253, 252,\n",
              "        252, 252, 253, 252, 252, 252, 253,  35,   0,   0,   0,   0,   0,\n",
              "          0,   0],\n",
              "       [  0,   0,   0,   0,   0,   0,   0,   0, 217, 252, 252, 253, 252,\n",
              "        252, 252, 253, 252, 252, 252, 253, 119,   0,   0,   0,   0,   0,\n",
              "          0,   0],\n",
              "       [  0,   0,   0,   0,   0,   0,   0,   0, 154, 252, 252, 253, 252,\n",
              "        252, 252, 253, 252, 252, 252, 253, 179,   0,   0,   0,   0,   0,\n",
              "          0,   0],\n",
              "       [  0,   0,   0,   0,   0,   0,   0,   0,  52, 179, 179,  35,  35,\n",
              "         35, 159, 253, 252, 252, 252, 253, 138,   0,   0,   0,   0,   0,\n",
              "          0,   0],\n",
              "       [  0,   0,   0,   0,   0,   0,   0,   0,   0,   0,   0,  16,  37,\n",
              "        140, 221, 253, 252, 252, 252, 175,  10,   0,   0,   0,   0,   0,\n",
              "          0,   0],\n",
              "       [  0,   0,   0,   0,   0,   0,   0,   0,   0,   0,   0, 191, 252,\n",
              "        252, 252, 253, 252, 252, 252, 144,   0,   0,   0,   0,   0,   0,\n",
              "          0,   0],\n",
              "       [  0,   0,   0,   0,   0,   0,   0,   0,   0, 182, 253, 255, 253,\n",
              "        253, 253, 255, 253, 253, 253, 145,   0,   0,   0,   0,   0,   0,\n",
              "          0,   0],\n",
              "       [  0,   0,   0,   0,   0,   0,   0,   0,  21, 201, 252, 253, 252,\n",
              "        252, 252, 253, 252, 252, 252, 238,  72,   0,   0,   0,   0,   0,\n",
              "          0,   0],\n",
              "       [  0,   0,   0,   0,   0,   0,   0,   0,  21, 201, 252, 253, 252,\n",
              "        252, 252, 253, 252, 252, 252, 253, 231,  52,   0,   0,   0,   0,\n",
              "          0,   0],\n",
              "       [  0,   0,   0,   0,   0,   0,   0,   0,   0, 181, 252, 253, 252,\n",
              "        252, 252, 191, 232, 252, 252, 253, 252,  71,   0,   0,   0,   0,\n",
              "          0,   0],\n",
              "       [  0,   0,   0,   0,  32, 109,  47,   0,   0, 182, 253, 255, 222,\n",
              "        125,   0,   0,  73, 253, 253, 255, 253,  72,   0,   0,   0,   0,\n",
              "          0,   0],\n",
              "       [  0,   0,   0,   0, 197, 252, 232,  42,   0,  46, 179, 180,  45,\n",
              "          0,   0,  32, 207, 252, 252, 253, 252,  71,   0,   0,   0,   0,\n",
              "          0,   0],\n",
              "       [  0,   0,   0,   0, 196, 252, 252, 221,  57,  37,  37,  37,  37,\n",
              "         37, 120, 212, 252, 252, 252, 253, 252,  71,   0,   0,   0,   0,\n",
              "          0,   0],\n",
              "       [  0,   0,   0,   0,  31, 211, 252, 252, 252, 252, 252, 253, 252,\n",
              "        252, 252, 253, 252, 252, 252, 253, 210,  31,   0,   0,   0,   0,\n",
              "          0,   0],\n",
              "       [  0,   0,   0,   0,   0, 182, 253, 253, 253, 253, 253, 255, 253,\n",
              "        253, 253, 255, 253, 253, 253, 208,  20,   0,   0,   0,   0,   0,\n",
              "          0,   0],\n",
              "       [  0,   0,   0,   0,   0,  57, 252, 252, 252, 252, 252, 253, 252,\n",
              "        252, 252, 253, 252, 252, 252, 104,   0,   0,   0,   0,   0,   0,\n",
              "          0,   0],\n",
              "       [  0,   0,   0,   0,   0,  11,  71, 133, 226, 252, 252, 253, 252,\n",
              "        252, 252, 253, 252, 205,  71,   0,   0,   0,   0,   0,   0,   0,\n",
              "          0,   0],\n",
              "       [  0,   0,   0,   0,   0,   0,   0,   0,  31, 108, 108, 253, 252,\n",
              "        252, 252, 108, 108,  31,   0,   0,   0,   0,   0,   0,   0,   0,\n",
              "          0,   0],\n",
              "       [  0,   0,   0,   0,   0,   0,   0,   0,   0,   0,   0,   0,   0,\n",
              "          0,   0,   0,   0,   0,   0,   0,   0,   0,   0,   0,   0,   0,\n",
              "          0,   0],\n",
              "       [  0,   0,   0,   0,   0,   0,   0,   0,   0,   0,   0,   0,   0,\n",
              "          0,   0,   0,   0,   0,   0,   0,   0,   0,   0,   0,   0,   0,\n",
              "          0,   0],\n",
              "       [  0,   0,   0,   0,   0,   0,   0,   0,   0,   0,   0,   0,   0,\n",
              "          0,   0,   0,   0,   0,   0,   0,   0,   0,   0,   0,   0,   0,\n",
              "          0,   0],\n",
              "       [  0,   0,   0,   0,   0,   0,   0,   0,   0,   0,   0,   0,   0,\n",
              "          0,   0,   0,   0,   0,   0,   0,   0,   0,   0,   0,   0,   0,\n",
              "          0,   0]], dtype=uint8)"
            ]
          },
          "metadata": {},
          "execution_count": 60
        }
      ]
    },
    {
      "cell_type": "code",
      "source": [
        "plt.imshow(X_test[3427])"
      ],
      "metadata": {
        "colab": {
          "base_uri": "https://localhost:8080/",
          "height": 282
        },
        "id": "fzAizcoL11vo",
        "outputId": "c5fe3fd2-6224-4edc-a97a-319e90b5ad40"
      },
      "execution_count": null,
      "outputs": [
        {
          "output_type": "execute_result",
          "data": {
            "text/plain": [
              "<matplotlib.image.AxesImage at 0x7ff4db10ea50>"
            ]
          },
          "metadata": {},
          "execution_count": 64
        },
        {
          "output_type": "display_data",
          "data": {
            "text/plain": [
              "<Figure size 432x288 with 1 Axes>"
            ],
            "image/png": "[encoded data removed]"
          },
          "metadata": {
            "needs_background": "light"
          }
        }
      ]
    },
    {
      "cell_type": "code",
      "source": [
        "model_.predict(X_test[3427].reshape(1,28,28,1)).argmax()"
      ],
      "metadata": {
        "colab": {
          "base_uri": "https://localhost:8080/"
        },
        "id": "3MuuURk72AUa",
        "outputId": "1b60b0d7-3336-47e6-dce4-29ada17deffe"
      },
      "execution_count": null,
      "outputs": [
        {
          "output_type": "execute_result",
          "data": {
            "text/plain": [
              "6"
            ]
          },
          "metadata": {},
          "execution_count": 67
        }
      ]
    },
    {
      "cell_type": "code",
      "source": [
        "X_test.shape"
      ],
      "metadata": {
        "id": "KlYz35b0XfYr",
        "colab": {
          "base_uri": "https://localhost:8080/"
        },
        "outputId": "f5bbf6ca-f94d-4b0d-a767-6efac55c4111"
      },
      "execution_count": null,
      "outputs": [
        {
          "output_type": "execute_result",
          "data": {
            "text/plain": [
              "(10000, 28, 28, 1)"
            ]
          },
          "metadata": {},
          "execution_count": 49
        }
      ]
    },
    {
      "cell_type": "code",
      "source": [
        "(X_train,y_train),(X_test,y_test) = mnist.load_data()"
      ],
      "metadata": {
        "id": "14-ji2PRZnBS"
      },
      "execution_count": null,
      "outputs": []
    },
    {
      "cell_type": "code",
      "source": [
        "X_test[2500].reshape(1,28,28)"
      ],
      "metadata": {
        "id": "DyhflmmNDbTQ",
        "colab": {
          "base_uri": "https://localhost:8080/"
        },
        "outputId": "b5a7ffad-76e8-4d0f-e00a-38e25c915d94"
      },
      "execution_count": null,
      "outputs": [
        {
          "output_type": "execute_result",
          "data": {
            "text/plain": [
              "array([[[  0,   0,   0,   0,   0,   0,   0,   0,   0,   0,   0,   0,\n",
              "           0,   0,   0,   0,   0,   0,   0,   0,   0,   0,   0,   0,\n",
              "           0,   0,   0,   0],\n",
              "        [  0,   0,   0,   0,   0,   0,   0,   0,   0,   0,   0,   0,\n",
              "           0,   0,   0,   0,   0,   0,   0,   0,   0,   0,   0,   0,\n",
              "           0,   0,   0,   0],\n",
              "        [  0,   0,   0,   0,   0,   0,   0,   0,   0,   0,   0,   0,\n",
              "           0,   0,   0,   0,   0,   0,   0,   0,   0,   0,   0,   0,\n",
              "           0,   0,   0,   0],\n",
              "        [  0,   0,   0,   0,   0,   0,   0,   0,   0,   0,   0,   0,\n",
              "           0,   0,   0,   0,   0,   0,   0,   0,   0,   0,   0,   0,\n",
              "           0,   0,   0,   0],\n",
              "        [  0,   0,   0,   0,   0,   0,   0,   0,   0,   0,   0,   0,\n",
              "           0,   0,   0,   0,   0,   0,   0,   0,   0,   0,   0,   0,\n",
              "           0,   0,   0,   0],\n",
              "        [  0,   0,   0,   0,   0,   0,   0,   0,   0,   0,   0,   0,\n",
              "           0,   0,   0,   0,   0,   0,   0,   0,   0,   0,   0,   0,\n",
              "           0,   0,   0,   0],\n",
              "        [  0,   0,   0,   0,   0,  20, 133, 133, 156, 156, 226, 209,\n",
              "         168, 127,   4,   0,   0,   0,   0,   0,   0,   0,   0,   0,\n",
              "           0,   0,   0,   0],\n",
              "        [  0,   0,   0,   0,   0, 255, 254, 244, 191, 147, 147, 147,\n",
              "         147, 219, 235, 122,  11,   0,   0,   0,   0,   0,   0,   0,\n",
              "           0,   0,   0,   0],\n",
              "        [  0,   0,   0,   0,   0,  54, 106,  31,   0,   0,   0,   0,\n",
              "           0,   0,  57, 245, 149,   0,   0,   0,   0,   0,   0,   0,\n",
              "           0,   0,   0,   0],\n",
              "        [  0,   0,   0,   0,   0,   0,   0,   0,   0,   0,   0,   0,\n",
              "           0,   0,   0, 122, 215,  23,   0,   0,   0,   0,   0,   0,\n",
              "           0,   0,   0,   0],\n",
              "        [  0,   0,   0,   0,   0,   0,   0,   0,   0,   0,   0,   0,\n",
              "           0,   0,   0,  65, 254, 136,   0,   0,   0,   0,   0,   0,\n",
              "           0,   0,   0,   0],\n",
              "        [  0,   0,   0,   0,   0,   0,   0,   0,   0,   0,   0,   0,\n",
              "           0,   0,   0,  83, 254, 136,   0,   0,   0,   0,   0,   0,\n",
              "           0,   0,   0,   0],\n",
              "        [  0,   0,   0,   0,   0,   0,   0,   0,   0,   0,   0,   0,\n",
              "           0,   0,   2, 168, 254, 111,   0,   0,   0,   0,   0,   0,\n",
              "           0,   0,   0,   0],\n",
              "        [  0,   0,   0,   0,   0,   0,   0,   0,   0,   0,   0,   0,\n",
              "           0,   0,  50, 254, 242,  16,   0,   0,   0,   0,   0,   0,\n",
              "           0,   0,   0,   0],\n",
              "        [  0,   0,   0,   0,   0,   0,   0,   0,   0,   0,   0,   0,\n",
              "           0,  26, 214, 254, 154,   0,   0,   0,   0,   0,   0,   0,\n",
              "           0,   0,   0,   0],\n",
              "        [  0,   0,   0,   0,   0,   0,   0,   0,   0,   0,   0,   0,\n",
              "          27, 215, 254, 183,   4,   0,   0,   0,   0,   0,   0,   0,\n",
              "           0,   0,   0,   0],\n",
              "        [  0,   0,   0,   0,   0,   0,   0,   0,   0,   0,   0,   6,\n",
              "         201, 254, 200,   9,   0,   0,   0,   0,   0,   0,   0,   0,\n",
              "           0,   0,   0,   0],\n",
              "        [  0,   0,   0,   0,   0,   0,   0,   0,   0,   0,  25, 204,\n",
              "         254, 227,  28,   0,   0,   0,   0,   0,   0,   0,   0,   0,\n",
              "           0,   0,   0,   0],\n",
              "        [  0,   0,   0,   0,   0,   0,   0,   0,   0,   0, 157, 254,\n",
              "         225,  36,   0,   0,   0,   0,   0,   0,   0,   0,   0,   0,\n",
              "           0,   0,   0,   0],\n",
              "        [  0,   0,   0,   0,   0,   0,   0,   0,   0,   0, 110, 254,\n",
              "         205,  71,   0,   0,   0,   0,   0,   0,   0,   0,   5,  61,\n",
              "         104,   0,   0,   0],\n",
              "        [  0,   0,   0,   0,   0,   0,   0,   0,   0,   0,   1,  96,\n",
              "         220, 252, 167, 148, 148, 148, 168, 196, 148, 170, 197, 144,\n",
              "          11,   0,   0,   0],\n",
              "        [  0,   0,   0,   0,   0,   0,   0,   0,   0,   0,   0,   0,\n",
              "          20,  80, 114, 178, 200, 155, 200, 155, 155,  89,  27,   0,\n",
              "           0,   0,   0,   0],\n",
              "        [  0,   0,   0,   0,   0,   0,   0,   0,   0,   0,   0,   0,\n",
              "           0,   0,   0,   0,   0,   0,   0,   0,   0,   0,   0,   0,\n",
              "           0,   0,   0,   0],\n",
              "        [  0,   0,   0,   0,   0,   0,   0,   0,   0,   0,   0,   0,\n",
              "           0,   0,   0,   0,   0,   0,   0,   0,   0,   0,   0,   0,\n",
              "           0,   0,   0,   0],\n",
              "        [  0,   0,   0,   0,   0,   0,   0,   0,   0,   0,   0,   0,\n",
              "           0,   0,   0,   0,   0,   0,   0,   0,   0,   0,   0,   0,\n",
              "           0,   0,   0,   0],\n",
              "        [  0,   0,   0,   0,   0,   0,   0,   0,   0,   0,   0,   0,\n",
              "           0,   0,   0,   0,   0,   0,   0,   0,   0,   0,   0,   0,\n",
              "           0,   0,   0,   0],\n",
              "        [  0,   0,   0,   0,   0,   0,   0,   0,   0,   0,   0,   0,\n",
              "           0,   0,   0,   0,   0,   0,   0,   0,   0,   0,   0,   0,\n",
              "           0,   0,   0,   0],\n",
              "        [  0,   0,   0,   0,   0,   0,   0,   0,   0,   0,   0,   0,\n",
              "           0,   0,   0,   0,   0,   0,   0,   0,   0,   0,   0,   0,\n",
              "           0,   0,   0,   0]]], dtype=uint8)"
            ]
          },
          "metadata": {},
          "execution_count": 51
        }
      ]
    },
    {
      "cell_type": "code",
      "source": [
        "plt.imshow(X_test[3427])"
      ],
      "metadata": {
        "id": "4pJl_kSECgnU",
        "colab": {
          "base_uri": "https://localhost:8080/",
          "height": 282
        },
        "outputId": "0f1c0eb7-c87c-4667-c498-a9cf289094a8"
      },
      "execution_count": null,
      "outputs": [
        {
          "output_type": "execute_result",
          "data": {
            "text/plain": [
              "<matplotlib.image.AxesImage at 0x7ff4dedb4a90>"
            ]
          },
          "metadata": {},
          "execution_count": 52
        },
        {
          "output_type": "display_data",
          "data": {
            "text/plain": [
              "<Figure size 432x288 with 1 Axes>"
            ],
            "image/png": "[encoded data removed]"
          },
          "metadata": {
            "needs_background": "light"
          }
        }
      ]
    },
    {
      "cell_type": "code",
      "source": [
        "model.predict(X_test[3427].reshape(1,28*28)).argmax()"
      ],
      "metadata": {
        "id": "duN6GJH6DydG",
        "colab": {
          "base_uri": "https://localhost:8080/"
        },
        "outputId": "43085bda-303b-4e62-ed62-197b379ff370"
      },
      "execution_count": null,
      "outputs": [
        {
          "output_type": "execute_result",
          "data": {
            "text/plain": [
              "6"
            ]
          },
          "metadata": {},
          "execution_count": 53
        }
      ]
    },
    {
      "cell_type": "code",
      "source": [
        "def unpickle(file):\n",
        "    import pickle\n",
        "    with open(file, 'rb') as fo:\n",
        "        dict = pickle.load(fo, encoding='bytes')\n",
        "    return dict\n",
        "\n",
        "def tratament_images(image):\n",
        "  raw = np.array(image, dtype = float) / 255.0\n",
        "  images = raw.reshape([-1, 3, 32, 32]) # transformar em uma matriz pra plotar a imagem\n",
        "  images = images = images.transpose([0, 2, 3, 1]) # ajeita as colunas pra montar a imagem\n",
        "  return images\n",
        "\n",
        "\n",
        "def carregar_data(file):\n",
        "  data = unpickle(file)\n",
        "  images_array = data[b'data']\n",
        "  images = tratament_images(images_array)\n",
        "\n",
        "  labels = np.array(data[b'labels'])\n",
        "\n",
        "  return images, labels\n",
        "\n",
        "\n",
        "def test():\n",
        "  images_, labels_ = carregar_data(f'/content/drive/MyDrive/cifar-19-python/test_batch')\n",
        "\n",
        "  return images_, labels_\n",
        "\n",
        "def train():\n",
        "  images = np.zeros(shape=[50000, 32, 32, 3], dtype = float)\n",
        "  labels = np.zeros(shape=[50000], dtype = int)\n",
        "\n",
        "  ponteiro_final = 0\n",
        "\n",
        "  for i in range(5):\n",
        "    images_, labels_ = carregar_data(f'/content/drive/MyDrive/cifar-19-python/data_batch_{i+1}')\n",
        "    \n",
        "    final = ponteiro_final + 10000\n",
        "    images[ponteiro_final:final,:] = images_\n",
        "    labels[ponteiro_final:final] = labels_\n",
        "\n",
        "    ponteiro_final = final\n",
        "\n",
        "  return images, labels\n",
        "\n"
      ],
      "metadata": {
        "id": "YlnFXmOrSb5g"
      },
      "execution_count": 3,
      "outputs": []
    },
    {
      "cell_type": "code",
      "source": [
        "data = unpickle(f'/content/drive/MyDrive/cifar-19-python/batches.meta')\n",
        "data"
      ],
      "metadata": {
        "colab": {
          "base_uri": "https://localhost:8080/"
        },
        "id": "yQVF3t20Scmt",
        "outputId": "950cfb9c-f253-4fdd-d754-26193ea573b8"
      },
      "execution_count": 4,
      "outputs": [
        {
          "output_type": "execute_result",
          "data": {
            "text/plain": [
              "{b'label_names': [b'airplane',\n",
              "  b'automobile',\n",
              "  b'bird',\n",
              "  b'cat',\n",
              "  b'deer',\n",
              "  b'dog',\n",
              "  b'frog',\n",
              "  b'horse',\n",
              "  b'ship',\n",
              "  b'truck'],\n",
              " b'num_cases_per_batch': 10000,\n",
              " b'num_vis': 3072}"
            ]
          },
          "metadata": {},
          "execution_count": 4
        }
      ]
    },
    {
      "cell_type": "code",
      "source": [
        "name_labels = ['avião','carro','passaro','gato','viado','cachorro','sapo','cavalo','barco','caminhão']"
      ],
      "metadata": {
        "id": "DTszJOvAg8k9"
      },
      "execution_count": 5,
      "outputs": []
    },
    {
      "cell_type": "code",
      "source": [
        "X_train, y_train = train()\n",
        "X_test, y_test = test()\n",
        "classe_one_hot_train = np_utils.to_categorical(y_train,10)\n",
        "classe_one_hot_test = np_utils.to_categorical(y_test,10)"
      ],
      "metadata": {
        "id": "UrPckHJsgeMY"
      },
      "execution_count": 6,
      "outputs": []
    },
    {
      "cell_type": "code",
      "source": [
        "rows = 2\n",
        "cols = 8\n",
        "axes = []\n",
        "fig = plt.figure(figsize=(12,8))\n",
        "\n",
        "for a in range(rows*cols):\n",
        "    axes.append( fig.add_subplot(rows, cols, a+1) )\n",
        "    subplot_title = (str(name_labels[y_train[a]]))\n",
        "    axes[-1].set_title(subplot_title)\n",
        "    plt.imshow(X_train[a])\n",
        "    \n",
        "\n",
        "fig.tight_layout()"
      ],
      "metadata": {
        "colab": {
          "base_uri": "https://localhost:8080/",
          "height": 376
        },
        "id": "9s5ultEhVy2y",
        "outputId": "b31bd64d-885f-456b-b441-2f1e492e1fe9"
      },
      "execution_count": null,
      "outputs": [
        {
          "output_type": "display_data",
          "data": {
            "text/plain": [
              "<Figure size 864x576 with 16 Axes>"
            ],
            "image/png": "[encoded data removed]"
          },
          "metadata": {
            "needs_background": "light"
          }
        }
      ]
    },
    {
      "cell_type": "code",
      "source": [
        "model = tf.keras.models.Sequential([\n",
        "    tf.keras.layers.Conv2D(96, (3,3), padding='same', input_shape=(32,32,3), activation='relu'), \n",
        "    tf.keras.layers.Dropout(0.2),\n",
        "    \n",
        "    tf.keras.layers.Conv2D(96, (3,3), padding='same',  activation='relu'),\n",
        "    tf.keras.layers.Conv2D(96, (3,3), padding='same',  activation='relu'),\n",
        "    tf.keras.layers.Conv2D(96, (3,3), padding='same',  activation='relu', strides=2), \n",
        "    tf.keras.layers.Dropout(0.5),\n",
        "    \n",
        "    tf.keras.layers.Conv2D(200, (3,3), padding='same', activation='relu'),\n",
        "    tf.keras.layers.Conv2D(200, (3,3), padding='same', activation='relu'),\n",
        "    tf.keras.layers.Conv2D(200, (3,3), padding='same', activation='relu', strides=2), \n",
        "    tf.keras.layers.Dropout(0.5),\n",
        "  \n",
        "    tf.keras.layers.Conv2D(200, (3,3), padding='same', activation='relu'),\n",
        "    tf.keras.layers.Conv2D(200, (1,1), padding='valid', activation='relu'), \n",
        "    tf.keras.layers.Conv2D(10, (1,1), padding='valid', activation='relu'), \n",
        "    tf.keras.layers.GlobalAveragePooling2D(),\n",
        "    \n",
        "    tf.keras.layers.Dense(10, activation='softmax')\n",
        "\n",
        "])\n",
        "\n",
        "model.compile(loss=tf.keras.losses.categorical_crossentropy, optimizer=tf.keras.optimizers.Adam(1e-4), metrics=['accuracy'])\n",
        "model.summary()"
      ],
      "metadata": {
        "colab": {
          "base_uri": "https://localhost:8080/"
        },
        "id": "10WdTL1ijTh4",
        "outputId": "0938b212-2ef5-4c61-9b63-e510b98c2449"
      },
      "execution_count": 7,
      "outputs": [
        {
          "output_type": "stream",
          "name": "stdout",
          "text": [
            "Model: \"sequential\"\n",
            "_________________________________________________________________\n",
            " Layer (type)                Output Shape              Param #   \n",
            "=================================================================\n",
            " conv2d (Conv2D)             (None, 32, 32, 96)        2688      \n",
            "                                                                 \n",
            " dropout (Dropout)           (None, 32, 32, 96)        0         \n",
            "                                                                 \n",
            " conv2d_1 (Conv2D)           (None, 32, 32, 96)        83040     \n",
            "                                                                 \n",
            " conv2d_2 (Conv2D)           (None, 32, 32, 96)        83040     \n",
            "                                                                 \n",
            " conv2d_3 (Conv2D)           (None, 16, 16, 96)        83040     \n",
            "                                                                 \n",
            " dropout_1 (Dropout)         (None, 16, 16, 96)        0         \n",
            "                                                                 \n",
            " conv2d_4 (Conv2D)           (None, 16, 16, 200)       173000    \n",
            "                                                                 \n",
            " conv2d_5 (Conv2D)           (None, 16, 16, 200)       360200    \n",
            "                                                                 \n",
            " conv2d_6 (Conv2D)           (None, 8, 8, 200)         360200    \n",
            "                                                                 \n",
            " dropout_2 (Dropout)         (None, 8, 8, 200)         0         \n",
            "                                                                 \n",
            " conv2d_7 (Conv2D)           (None, 8, 8, 200)         360200    \n",
            "                                                                 \n",
            " conv2d_8 (Conv2D)           (None, 8, 8, 200)         40200     \n",
            "                                                                 \n",
            " conv2d_9 (Conv2D)           (None, 8, 8, 10)          2010      \n",
            "                                                                 \n",
            " global_average_pooling2d (G  (None, 10)               0         \n",
            " lobalAveragePooling2D)                                          \n",
            "                                                                 \n",
            " dense (Dense)               (None, 10)                110       \n",
            "                                                                 \n",
            "=================================================================\n",
            "Total params: 1,547,728\n",
            "Trainable params: 1,547,728\n",
            "Non-trainable params: 0\n",
            "_________________________________________________________________\n"
          ]
        }
      ]
    },
    {
      "cell_type": "code",
      "source": [
        "history = model.fit(X_train, classe_one_hot_train, epochs=100, batch_size=128,validation_data=(X_test,classe_one_hot_test))"
      ],
      "metadata": {
        "colab": {
          "base_uri": "https://localhost:8080/"
        },
        "id": "4U3pzg7TvV8L",
        "outputId": "91a8e3fd-bbc8-47fb-a601-ab1eda0bd479"
      },
      "execution_count": 8,
      "outputs": [
        {
          "output_type": "stream",
          "name": "stdout",
          "text": [
            "Epoch 1/100\n",
            "391/391 [==============================] - 90s 185ms/step - loss: 2.1353 - accuracy: 0.1795 - val_loss: 2.1627 - val_accuracy: 0.1949\n",
            "Epoch 2/100\n",
            "391/391 [==============================] - 70s 179ms/step - loss: 1.9356 - accuracy: 0.2398 - val_loss: 1.9282 - val_accuracy: 0.2625\n",
            "Epoch 3/100\n",
            "391/391 [==============================] - 70s 179ms/step - loss: 1.8223 - accuracy: 0.2728 - val_loss: 1.7808 - val_accuracy: 0.3080\n",
            "Epoch 4/100\n",
            "391/391 [==============================] - 71s 181ms/step - loss: 1.7295 - accuracy: 0.3252 - val_loss: 1.6471 - val_accuracy: 0.3745\n",
            "Epoch 5/100\n",
            "391/391 [==============================] - 70s 179ms/step - loss: 1.6238 - accuracy: 0.4026 - val_loss: 1.5557 - val_accuracy: 0.4434\n",
            "Epoch 6/100\n",
            "391/391 [==============================] - 70s 179ms/step - loss: 1.5045 - accuracy: 0.4549 - val_loss: 1.4334 - val_accuracy: 0.4867\n",
            "Epoch 7/100\n",
            "391/391 [==============================] - 70s 179ms/step - loss: 1.3981 - accuracy: 0.4920 - val_loss: 1.3491 - val_accuracy: 0.5092\n",
            "Epoch 8/100\n",
            "391/391 [==============================] - 70s 179ms/step - loss: 1.3441 - accuracy: 0.5141 - val_loss: 1.3261 - val_accuracy: 0.5180\n",
            "Epoch 9/100\n",
            "391/391 [==============================] - 70s 178ms/step - loss: 1.2899 - accuracy: 0.5364 - val_loss: 1.2582 - val_accuracy: 0.5450\n",
            "Epoch 10/100\n",
            "391/391 [==============================] - 70s 178ms/step - loss: 1.2536 - accuracy: 0.5496 - val_loss: 1.1926 - val_accuracy: 0.5757\n",
            "Epoch 11/100\n",
            "391/391 [==============================] - 70s 178ms/step - loss: 1.2185 - accuracy: 0.5638 - val_loss: 1.1694 - val_accuracy: 0.5802\n",
            "Epoch 12/100\n",
            "391/391 [==============================] - 70s 179ms/step - loss: 1.1749 - accuracy: 0.5809 - val_loss: 1.1808 - val_accuracy: 0.5778\n",
            "Epoch 13/100\n",
            "391/391 [==============================] - 70s 179ms/step - loss: 1.1448 - accuracy: 0.5927 - val_loss: 1.1014 - val_accuracy: 0.6053\n",
            "Epoch 14/100\n",
            "391/391 [==============================] - 70s 179ms/step - loss: 1.0978 - accuracy: 0.6106 - val_loss: 1.0853 - val_accuracy: 0.6141\n",
            "Epoch 15/100\n",
            "391/391 [==============================] - 70s 179ms/step - loss: 1.0710 - accuracy: 0.6188 - val_loss: 1.0153 - val_accuracy: 0.6343\n",
            "Epoch 16/100\n",
            "391/391 [==============================] - 70s 178ms/step - loss: 1.0405 - accuracy: 0.6311 - val_loss: 1.0222 - val_accuracy: 0.6396\n",
            "Epoch 17/100\n",
            "391/391 [==============================] - 70s 179ms/step - loss: 1.0208 - accuracy: 0.6371 - val_loss: 1.0138 - val_accuracy: 0.6376\n",
            "Epoch 18/100\n",
            "391/391 [==============================] - 70s 178ms/step - loss: 0.9959 - accuracy: 0.6467 - val_loss: 0.9652 - val_accuracy: 0.6561\n",
            "Epoch 19/100\n",
            "391/391 [==============================] - 70s 178ms/step - loss: 0.9728 - accuracy: 0.6540 - val_loss: 0.9579 - val_accuracy: 0.6573\n",
            "Epoch 20/100\n",
            "391/391 [==============================] - 70s 178ms/step - loss: 0.9616 - accuracy: 0.6589 - val_loss: 0.9441 - val_accuracy: 0.6628\n",
            "Epoch 21/100\n",
            "391/391 [==============================] - 71s 181ms/step - loss: 0.9340 - accuracy: 0.6685 - val_loss: 0.9210 - val_accuracy: 0.6682\n",
            "Epoch 22/100\n",
            "391/391 [==============================] - 70s 178ms/step - loss: 0.9213 - accuracy: 0.6756 - val_loss: 0.9034 - val_accuracy: 0.6759\n",
            "Epoch 23/100\n",
            "391/391 [==============================] - 70s 179ms/step - loss: 0.9047 - accuracy: 0.6790 - val_loss: 0.8873 - val_accuracy: 0.6838\n",
            "Epoch 24/100\n",
            "391/391 [==============================] - 70s 178ms/step - loss: 0.8932 - accuracy: 0.6866 - val_loss: 0.8964 - val_accuracy: 0.6810\n",
            "Epoch 25/100\n",
            "391/391 [==============================] - 70s 178ms/step - loss: 0.8769 - accuracy: 0.6914 - val_loss: 0.8625 - val_accuracy: 0.6910\n",
            "Epoch 26/100\n",
            "391/391 [==============================] - 70s 178ms/step - loss: 0.8687 - accuracy: 0.6932 - val_loss: 0.8562 - val_accuracy: 0.6989\n",
            "Epoch 27/100\n",
            "391/391 [==============================] - 70s 178ms/step - loss: 0.8505 - accuracy: 0.7001 - val_loss: 0.8519 - val_accuracy: 0.6968\n",
            "Epoch 28/100\n",
            "391/391 [==============================] - 70s 179ms/step - loss: 0.8387 - accuracy: 0.7043 - val_loss: 0.8408 - val_accuracy: 0.6997\n",
            "Epoch 29/100\n",
            "391/391 [==============================] - 70s 179ms/step - loss: 0.8266 - accuracy: 0.7081 - val_loss: 0.8170 - val_accuracy: 0.7117\n",
            "Epoch 30/100\n",
            "391/391 [==============================] - 70s 178ms/step - loss: 0.8108 - accuracy: 0.7129 - val_loss: 0.8588 - val_accuracy: 0.6966\n",
            "Epoch 31/100\n",
            "391/391 [==============================] - 70s 179ms/step - loss: 0.8009 - accuracy: 0.7155 - val_loss: 0.8100 - val_accuracy: 0.7180\n",
            "Epoch 32/100\n",
            "391/391 [==============================] - 70s 178ms/step - loss: 0.7890 - accuracy: 0.7227 - val_loss: 0.8206 - val_accuracy: 0.7081\n",
            "Epoch 33/100\n",
            "391/391 [==============================] - 70s 178ms/step - loss: 0.7821 - accuracy: 0.7246 - val_loss: 0.8097 - val_accuracy: 0.7141\n",
            "Epoch 34/100\n",
            "391/391 [==============================] - 70s 178ms/step - loss: 0.7674 - accuracy: 0.7296 - val_loss: 0.8029 - val_accuracy: 0.7198\n",
            "Epoch 35/100\n",
            "391/391 [==============================] - 70s 178ms/step - loss: 0.7560 - accuracy: 0.7332 - val_loss: 0.7926 - val_accuracy: 0.7203\n",
            "Epoch 36/100\n",
            "391/391 [==============================] - 70s 178ms/step - loss: 0.7493 - accuracy: 0.7344 - val_loss: 0.7702 - val_accuracy: 0.7234\n",
            "Epoch 37/100\n",
            "391/391 [==============================] - 70s 178ms/step - loss: 0.7364 - accuracy: 0.7395 - val_loss: 0.7794 - val_accuracy: 0.7255\n",
            "Epoch 38/100\n",
            "391/391 [==============================] - 71s 181ms/step - loss: 0.7294 - accuracy: 0.7420 - val_loss: 0.7545 - val_accuracy: 0.7321\n",
            "Epoch 39/100\n",
            "391/391 [==============================] - 70s 178ms/step - loss: 0.7184 - accuracy: 0.7470 - val_loss: 0.7461 - val_accuracy: 0.7346\n",
            "Epoch 40/100\n",
            "391/391 [==============================] - 71s 181ms/step - loss: 0.7122 - accuracy: 0.7501 - val_loss: 0.7346 - val_accuracy: 0.7378\n",
            "Epoch 41/100\n",
            "391/391 [==============================] - 71s 181ms/step - loss: 0.7033 - accuracy: 0.7521 - val_loss: 0.7757 - val_accuracy: 0.7290\n",
            "Epoch 42/100\n",
            "391/391 [==============================] - 70s 178ms/step - loss: 0.6922 - accuracy: 0.7572 - val_loss: 0.7413 - val_accuracy: 0.7398\n",
            "Epoch 43/100\n",
            "391/391 [==============================] - 71s 181ms/step - loss: 0.6827 - accuracy: 0.7598 - val_loss: 0.7389 - val_accuracy: 0.7406\n",
            "Epoch 44/100\n",
            "391/391 [==============================] - 70s 178ms/step - loss: 0.6773 - accuracy: 0.7617 - val_loss: 0.7400 - val_accuracy: 0.7419\n",
            "Epoch 45/100\n",
            "391/391 [==============================] - 70s 178ms/step - loss: 0.6673 - accuracy: 0.7652 - val_loss: 0.7120 - val_accuracy: 0.7454\n",
            "Epoch 46/100\n",
            "391/391 [==============================] - 70s 178ms/step - loss: 0.6591 - accuracy: 0.7671 - val_loss: 0.6962 - val_accuracy: 0.7543\n",
            "Epoch 47/100\n",
            "391/391 [==============================] - 70s 178ms/step - loss: 0.6521 - accuracy: 0.7696 - val_loss: 0.6954 - val_accuracy: 0.7502\n",
            "Epoch 48/100\n",
            "391/391 [==============================] - 70s 178ms/step - loss: 0.6406 - accuracy: 0.7752 - val_loss: 0.6989 - val_accuracy: 0.7499\n",
            "Epoch 49/100\n",
            "391/391 [==============================] - 70s 178ms/step - loss: 0.6368 - accuracy: 0.7754 - val_loss: 0.6878 - val_accuracy: 0.7575\n",
            "Epoch 50/100\n",
            "391/391 [==============================] - 70s 178ms/step - loss: 0.6307 - accuracy: 0.7767 - val_loss: 0.6824 - val_accuracy: 0.7577\n",
            "Epoch 51/100\n",
            "391/391 [==============================] - 70s 178ms/step - loss: 0.6194 - accuracy: 0.7823 - val_loss: 0.6887 - val_accuracy: 0.7590\n",
            "Epoch 52/100\n",
            "391/391 [==============================] - 71s 180ms/step - loss: 0.6197 - accuracy: 0.7819 - val_loss: 0.6881 - val_accuracy: 0.7593\n",
            "Epoch 53/100\n",
            "391/391 [==============================] - 70s 178ms/step - loss: 0.6054 - accuracy: 0.7856 - val_loss: 0.6598 - val_accuracy: 0.7670\n",
            "Epoch 54/100\n",
            "391/391 [==============================] - 70s 178ms/step - loss: 0.5984 - accuracy: 0.7909 - val_loss: 0.6531 - val_accuracy: 0.7733\n",
            "Epoch 55/100\n",
            "391/391 [==============================] - 70s 178ms/step - loss: 0.5975 - accuracy: 0.7893 - val_loss: 0.6740 - val_accuracy: 0.7672\n",
            "Epoch 56/100\n",
            "391/391 [==============================] - 70s 178ms/step - loss: 0.5813 - accuracy: 0.7934 - val_loss: 0.6685 - val_accuracy: 0.7698\n",
            "Epoch 57/100\n",
            "391/391 [==============================] - 70s 178ms/step - loss: 0.5767 - accuracy: 0.7973 - val_loss: 0.6788 - val_accuracy: 0.7597\n",
            "Epoch 58/100\n",
            "391/391 [==============================] - 70s 178ms/step - loss: 0.5755 - accuracy: 0.7990 - val_loss: 0.6267 - val_accuracy: 0.7805\n",
            "Epoch 59/100\n",
            "391/391 [==============================] - 70s 178ms/step - loss: 0.5670 - accuracy: 0.7994 - val_loss: 0.6870 - val_accuracy: 0.7599\n",
            "Epoch 60/100\n",
            "391/391 [==============================] - 70s 178ms/step - loss: 0.5601 - accuracy: 0.8031 - val_loss: 0.6306 - val_accuracy: 0.7827\n",
            "Epoch 61/100\n",
            "391/391 [==============================] - 70s 178ms/step - loss: 0.5571 - accuracy: 0.8040 - val_loss: 0.6962 - val_accuracy: 0.7574\n",
            "Epoch 62/100\n",
            "391/391 [==============================] - 70s 179ms/step - loss: 0.5458 - accuracy: 0.8086 - val_loss: 0.6747 - val_accuracy: 0.7739\n",
            "Epoch 63/100\n",
            "391/391 [==============================] - 70s 179ms/step - loss: 0.5466 - accuracy: 0.8074 - val_loss: 0.6245 - val_accuracy: 0.7812\n",
            "Epoch 64/100\n",
            "391/391 [==============================] - 70s 179ms/step - loss: 0.5273 - accuracy: 0.8128 - val_loss: 0.6139 - val_accuracy: 0.7862\n",
            "Epoch 65/100\n",
            "391/391 [==============================] - 71s 181ms/step - loss: 0.5279 - accuracy: 0.8130 - val_loss: 0.6400 - val_accuracy: 0.7818\n",
            "Epoch 66/100\n",
            "391/391 [==============================] - 71s 181ms/step - loss: 0.5209 - accuracy: 0.8171 - val_loss: 0.6132 - val_accuracy: 0.7879\n",
            "Epoch 67/100\n",
            "391/391 [==============================] - 70s 179ms/step - loss: 0.5155 - accuracy: 0.8191 - val_loss: 0.6179 - val_accuracy: 0.7904\n",
            "Epoch 68/100\n",
            "391/391 [==============================] - 70s 179ms/step - loss: 0.5108 - accuracy: 0.8189 - val_loss: 0.6156 - val_accuracy: 0.7871\n",
            "Epoch 69/100\n",
            "391/391 [==============================] - 70s 178ms/step - loss: 0.5101 - accuracy: 0.8205 - val_loss: 0.6034 - val_accuracy: 0.7912\n",
            "Epoch 70/100\n",
            "391/391 [==============================] - 70s 179ms/step - loss: 0.4963 - accuracy: 0.8243 - val_loss: 0.6164 - val_accuracy: 0.7841\n",
            "Epoch 71/100\n",
            "391/391 [==============================] - 70s 178ms/step - loss: 0.4968 - accuracy: 0.8242 - val_loss: 0.6054 - val_accuracy: 0.7918\n",
            "Epoch 72/100\n",
            "391/391 [==============================] - 70s 179ms/step - loss: 0.4859 - accuracy: 0.8279 - val_loss: 0.6145 - val_accuracy: 0.7932\n",
            "Epoch 73/100\n",
            "391/391 [==============================] - 70s 179ms/step - loss: 0.4833 - accuracy: 0.8283 - val_loss: 0.5989 - val_accuracy: 0.7950\n",
            "Epoch 74/100\n",
            "391/391 [==============================] - 70s 179ms/step - loss: 0.4761 - accuracy: 0.8333 - val_loss: 0.5909 - val_accuracy: 0.8006\n",
            "Epoch 75/100\n",
            "391/391 [==============================] - 70s 178ms/step - loss: 0.4669 - accuracy: 0.8353 - val_loss: 0.5916 - val_accuracy: 0.7983\n",
            "Epoch 76/100\n",
            "391/391 [==============================] - 70s 179ms/step - loss: 0.4709 - accuracy: 0.8324 - val_loss: 0.6104 - val_accuracy: 0.7927\n",
            "Epoch 77/100\n",
            "391/391 [==============================] - 70s 179ms/step - loss: 0.4661 - accuracy: 0.8357 - val_loss: 0.5920 - val_accuracy: 0.8034\n",
            "Epoch 78/100\n",
            "391/391 [==============================] - 70s 179ms/step - loss: 0.4576 - accuracy: 0.8396 - val_loss: 0.5918 - val_accuracy: 0.7995\n",
            "Epoch 79/100\n",
            "391/391 [==============================] - 70s 178ms/step - loss: 0.4506 - accuracy: 0.8412 - val_loss: 0.5838 - val_accuracy: 0.8017\n",
            "Epoch 80/100\n",
            "391/391 [==============================] - 71s 181ms/step - loss: 0.4434 - accuracy: 0.8441 - val_loss: 0.5825 - val_accuracy: 0.8036\n",
            "Epoch 81/100\n",
            "391/391 [==============================] - 71s 181ms/step - loss: 0.4418 - accuracy: 0.8424 - val_loss: 0.5748 - val_accuracy: 0.8062\n",
            "Epoch 82/100\n",
            "391/391 [==============================] - 70s 179ms/step - loss: 0.4361 - accuracy: 0.8469 - val_loss: 0.6086 - val_accuracy: 0.7974\n",
            "Epoch 83/100\n",
            "391/391 [==============================] - 70s 178ms/step - loss: 0.4362 - accuracy: 0.8462 - val_loss: 0.6111 - val_accuracy: 0.7997\n",
            "Epoch 84/100\n",
            "391/391 [==============================] - 70s 179ms/step - loss: 0.4357 - accuracy: 0.8451 - val_loss: 0.5911 - val_accuracy: 0.7972\n",
            "Epoch 85/100\n",
            "391/391 [==============================] - 70s 178ms/step - loss: 0.4289 - accuracy: 0.8475 - val_loss: 0.6241 - val_accuracy: 0.7910\n",
            "Epoch 86/100\n",
            "391/391 [==============================] - 70s 180ms/step - loss: 0.4197 - accuracy: 0.8512 - val_loss: 0.5721 - val_accuracy: 0.8096\n",
            "Epoch 87/100\n",
            "391/391 [==============================] - 70s 179ms/step - loss: 0.4103 - accuracy: 0.8551 - val_loss: 0.5704 - val_accuracy: 0.8060\n",
            "Epoch 88/100\n",
            "391/391 [==============================] - 70s 179ms/step - loss: 0.4151 - accuracy: 0.8526 - val_loss: 0.5813 - val_accuracy: 0.8084\n",
            "Epoch 89/100\n",
            "391/391 [==============================] - 70s 179ms/step - loss: 0.4030 - accuracy: 0.8580 - val_loss: 0.5897 - val_accuracy: 0.8045\n",
            "Epoch 90/100\n",
            "391/391 [==============================] - 70s 179ms/step - loss: 0.4029 - accuracy: 0.8577 - val_loss: 0.5545 - val_accuracy: 0.8149\n",
            "Epoch 91/100\n",
            "391/391 [==============================] - 70s 179ms/step - loss: 0.3944 - accuracy: 0.8612 - val_loss: 0.5786 - val_accuracy: 0.8118\n",
            "Epoch 92/100\n",
            "391/391 [==============================] - 70s 178ms/step - loss: 0.3936 - accuracy: 0.8614 - val_loss: 0.5709 - val_accuracy: 0.8092\n",
            "Epoch 93/100\n",
            "391/391 [==============================] - 70s 179ms/step - loss: 0.3899 - accuracy: 0.8621 - val_loss: 0.5784 - val_accuracy: 0.8120\n",
            "Epoch 94/100\n",
            "391/391 [==============================] - 70s 179ms/step - loss: 0.3861 - accuracy: 0.8630 - val_loss: 0.5676 - val_accuracy: 0.8125\n",
            "Epoch 95/100\n",
            "391/391 [==============================] - 70s 179ms/step - loss: 0.3816 - accuracy: 0.8655 - val_loss: 0.5831 - val_accuracy: 0.8091\n",
            "Epoch 96/100\n",
            "391/391 [==============================] - 70s 180ms/step - loss: 0.3736 - accuracy: 0.8686 - val_loss: 0.5914 - val_accuracy: 0.8077\n",
            "Epoch 97/100\n",
            "391/391 [==============================] - 70s 179ms/step - loss: 0.3710 - accuracy: 0.8668 - val_loss: 0.5629 - val_accuracy: 0.8184\n",
            "Epoch 98/100\n",
            "391/391 [==============================] - 70s 179ms/step - loss: 0.3664 - accuracy: 0.8707 - val_loss: 0.5726 - val_accuracy: 0.8122\n",
            "Epoch 99/100\n",
            "391/391 [==============================] - 70s 179ms/step - loss: 0.3635 - accuracy: 0.8706 - val_loss: 0.5648 - val_accuracy: 0.8145\n",
            "Epoch 100/100\n",
            "391/391 [==============================] - 70s 179ms/step - loss: 0.3608 - accuracy: 0.8732 - val_loss: 0.5628 - val_accuracy: 0.8150\n"
          ]
        }
      ]
    },
    {
      "cell_type": "code",
      "source": [
        "y_pred = np.argmax(model.predict(X_test), axis=1)\n",
        "y_test = np.argmax(classe_one_hot_test, axis=1)\n",
        "\n",
        "print(classification_report(y_test, y_pred))\n",
        "print('matriz de confusão')\n",
        "print(confusion_matrix(y_test,y_pred))"
      ],
      "metadata": {
        "colab": {
          "base_uri": "https://localhost:8080/"
        },
        "id": "FSHx6MbzvSiN",
        "outputId": "7f4fc6c1-7bc0-4c43-c9e4-afaf86d7387f"
      },
      "execution_count": null,
      "outputs": [
        {
          "output_type": "stream",
          "name": "stdout",
          "text": [
            "              precision    recall  f1-score   support\n",
            "\n",
            "           0       0.84      0.79      0.81      1000\n",
            "           1       0.90      0.93      0.91      1000\n",
            "           2       0.70      0.78      0.74      1000\n",
            "           3       0.70      0.55      0.62      1000\n",
            "           4       0.82      0.69      0.75      1000\n",
            "           5       0.70      0.75      0.73      1000\n",
            "           6       0.85      0.83      0.84      1000\n",
            "           7       0.77      0.89      0.82      1000\n",
            "           8       0.85      0.93      0.89      1000\n",
            "           9       0.90      0.89      0.90      1000\n",
            "\n",
            "    accuracy                           0.80     10000\n",
            "   macro avg       0.80      0.80      0.80     10000\n",
            "weighted avg       0.80      0.80      0.80     10000\n",
            "\n",
            "matriz de confusão\n",
            "[[790  18  58   5  10   3   5  10  74  27]\n",
            " [  6 927   1   2   1   3   2   4  16  38]\n",
            " [ 51   1 780  28  39  40  29  24   7   1]\n",
            " [ 22   7  73 552  29 184  54  48  21  10]\n",
            " [  9   1  72  33 693  37  36 104  14   1]\n",
            " [  8   3  40  92  27 751   8  59   8   4]\n",
            " [  8   3  55  45  21  20 829  11   6   2]\n",
            " [  6   0  27  18  18  31   2 888   3   7]\n",
            " [ 28  17   6   4   1   0   3   4 929   8]\n",
            " [ 13  58   3   4   1   0   2   7  18 894]]\n"
          ]
        }
      ]
    },
    {
      "cell_type": "code",
      "source": [
        "plt.figure(figsize=(12,6))\n",
        "plt.title('Loss/Val_Loss - Epochs')\n",
        "plt.xlabel('Epochs')\n",
        "plt.ylabel('Loss')\n",
        "plt.plot(history.history['loss'], color='darkred', label='Loss')\n",
        "plt.plot(history.history['val_loss'], color='blue', label='Val_Loss')\n",
        "plt.legend(loc='best')\n",
        "plt.show()"
      ],
      "metadata": {
        "colab": {
          "base_uri": "https://localhost:8080/",
          "height": 404
        },
        "id": "MGC7XW9OoeaE",
        "outputId": "802d91fc-4307-4e5f-cb92-a31c97e6a8be"
      },
      "execution_count": 9,
      "outputs": [
        {
          "output_type": "display_data",
          "data": {
            "text/plain": [
              "<Figure size 864x432 with 1 Axes>"
            ],
            "image/png": "[encoded data removed]"
          },
          "metadata": {
            "needs_background": "light"
          }
        }
      ]
    },
    {
      "cell_type": "code",
      "source": [
        "model_json = model.to_json()\n",
        "with open(\"model.json\", \"w\") as json_file:\n",
        "    json_file.write(model_json)\n",
        "\n",
        "model.save_weights(\"model.h5\")\n",
        "\n",
        "json_file = open('model.json', 'r')\n",
        "loaded_model_json = json_file.read()\n",
        "json_file.close()\n",
        "\n",
        "loaded_model = tf.keras.models.model_from_json(loaded_model_json)\n",
        "loaded_model.load_weights(\"model.h5\")\n",
        "loaded_model.compile(loss=tf.keras.losses.categorical_crossentropy, optimizer=tf.keras.optimizers.Adam(1e-4), metrics=['accuracy'])\n",
        "score = loaded_model.evaluate(X_test, classe_one_hot_test, verbose=0)\n",
        "print(\"%s: %.2f%%\" % (loaded_model.metrics_names[1], score[1]*100))\n",
        "print('Ein: %0.4f' % (1 - loaded_model.evaluate(X_train, classe_one_hot_train, verbose=0)[1]))\n",
        "print('Eout: %0.4f' % (1 - loaded_model.evaluate(X_test, classe_one_hot_test, verbose=0)[1]))"
      ],
      "metadata": {
        "colab": {
          "base_uri": "https://localhost:8080/"
        },
        "id": "sOGQbu4199z7",
        "outputId": "4cdc0b3c-8bd4-4378-d4d2-983059a50684"
      },
      "execution_count": null,
      "outputs": [
        {
          "output_type": "stream",
          "name": "stdout",
          "text": [
            "accuracy: 80.33%\n",
            "Ein: 0.0943\n",
            "Eout: 0.1967\n"
          ]
        }
      ]
    },
    {
      "cell_type": "code",
      "source": [
        "json_file = open('model.json', 'r')\n",
        "loaded_model_json = json_file.read()\n",
        "json_file.close()\n",
        "\n",
        "loaded_model = tf.keras.models.model_from_json(loaded_model_json)\n",
        "loaded_model.load_weights(\"model.h5\")\n",
        "loaded_model.compile(loss=tf.keras.losses.categorical_crossentropy, optimizer=tf.keras.optimizers.Adam(1e-4), metrics=['accuracy'])\n",
        "score = loaded_model.evaluate(X_test, classe_one_hot_test, verbose=0)\n",
        "print(\"%s: %.2f%%\" % (loaded_model.metrics_names[1], score[1]*100))\n",
        "print('Ein: %0.4f' % (1 - loaded_model.evaluate(X_train, classe_one_hot_train, verbose=0)[1]))\n",
        "print('Eout: %0.4f' % (1 - loaded_model.evaluate(X_test, classe_one_hot_test, verbose=0)[1]))"
      ],
      "metadata": {
        "colab": {
          "base_uri": "https://localhost:8080/"
        },
        "id": "_pOqPlEnJ0Vm",
        "outputId": "1a7e7092-8857-425d-e65e-5450002f3c14"
      },
      "execution_count": null,
      "outputs": [
        {
          "output_type": "stream",
          "name": "stdout",
          "text": [
            "accuracy: 80.33%\n",
            "Ein: 0.0943\n",
            "Eout: 0.1967\n"
          ]
        }
      ]
    }
  ]
}